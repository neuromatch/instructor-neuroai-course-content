{
 "cells": [
  {
   "cell_type": "markdown",
   "metadata": {
    "execution": {}
   },
   "source": [
    "<a href=\"https://colab.research.google.com/github/neuromatch/NeuroAI_Course/blob/main/tutorials/W1D5_Microcircuits/student/W1D5_Tutorial1.ipynb\" target=\"_blank\"><img alt=\"Open In Colab\" src=\"https://colab.research.google.com/assets/colab-badge.svg\"/></a>   <a href=\"https://kaggle.com/kernels/welcome?src=https://raw.githubusercontent.com/neuromatch/NeuroAI_Course/main/tutorials/W1D5_Microcircuits/student/W1D5_Tutorial1.ipynb\" target=\"_blank\"><img alt=\"Open in Kaggle\" src=\"https://kaggle.com/static/images/open-in-kaggle.svg\"/></a>"
   ]
  },
  {
   "cell_type": "markdown",
   "metadata": {
    "execution": {}
   },
   "source": [
    "# Tutorial 1: Sparsity and Sparse Coding\n",
    "\n",
    "**Week 1, Day 5: Microcircuits**\n",
    "\n",
    "**By Neuromatch Academy**\n",
    "\n",
    "__Content creators:__ Noga Mudrik, Xaq Pitkow\n",
    "\n",
    "__Content reviewers:__ Yizhou Chen, RyeongKyung Yoon, Ruiyi Zhang, Lily Chamakura, Hlib Solodzhuk\n",
    "\n",
    "__Production editors:__ Konstantine Tsafatinos, Ella Batty, Spiros Chavlis, Samuele Bolotta, Hlib Solodzhuk\n"
   ]
  },
  {
   "cell_type": "markdown",
   "metadata": {
    "execution": {}
   },
   "source": [
    "___\n",
    "\n",
    "\n",
    "# Tutorial Objectives\n",
    "\n",
    "*Estimated timing of tutorial: 2 hours*\n",
    "\n",
    "In this tutorial we will discuss the notion of sparsity. In particular, we will:\n",
    "\n",
    "- Recognize various types of sparsity (population, lifetime, interaction).\n",
    "- Relate sparsity to inductive bias, interpretability, and efficiency.\n"
   ]
  },
  {
   "cell_type": "markdown",
   "metadata": {},
   "source": [
    "\n"
   ]
  },
  {
   "cell_type": "code",
   "execution_count": null,
   "metadata": {
    "cellView": "form",
    "execution": {},
    "tags": [
     "remove-input"
    ]
   },
   "outputs": [],
   "source": [
    "# @markdown\n",
    "from IPython.display import IFrame\n",
    "from ipywidgets import widgets\n",
    "out = widgets.Output()\n",
    "with out:\n",
    "    print(f\"If you want to download the slides: https://osf.io/download/cp57z/\")\n",
    "    display(IFrame(src=f\"https://mfr.ca-1.osf.io/render?url=https://osf.io/cp57z/?direct%26mode=render%26action=download%26mode=render\", width=730, height=410))\n",
    "display(out)"
   ]
  },
  {
   "cell_type": "markdown",
   "metadata": {
    "execution": {}
   },
   "source": [
    "---\n",
    "# Setup\n",
    "\n"
   ]
  },
  {
   "cell_type": "markdown",
   "metadata": {},
   "source": [
    "##  Install and import feedback gadget\n"
   ]
  },
  {
   "cell_type": "code",
   "execution_count": null,
   "metadata": {
    "cellView": "form",
    "execution": {},
    "tags": [
     "hide-input"
    ]
   },
   "outputs": [],
   "source": [
    "# @title Install and import feedback gadget\n",
    "\n",
    "# !pip3 install vibecheck datatops --quiet\n",
    "\n",
    "# from vibecheck import DatatopsContentReviewContainer\n",
    "# def content_review(notebook_section: str):\n",
    "#     return DatatopsContentReviewContainer(\n",
    "#         \"\",  # No text prompt - leave this as is\n",
    "#         notebook_section,\n",
    "#         {\n",
    "#             \"url\": \"https://pmyvdlilci.execute-api.us-east-1.amazonaws.com/klab\",\n",
    "#             \"name\": \"sciencematch_sm\", # change the name of the course : neuromatch_dl, climatematch_ct, etc\n",
    "#             \"user_key\": \"y1x3mpx5\",\n",
    "#         },\n",
    "#     ).render()\n",
    "\n",
    "# feedback_prefix = \"W1D5_T1\""
   ]
  },
  {
   "cell_type": "code",
   "execution_count": null,
   "metadata": {
    "execution": {}
   },
   "outputs": [],
   "source": [
    "# Imports\n",
    "\n",
    "#working with data\n",
    "import numpy as np\n",
    "import pandas as pd\n",
    "from scipy.stats import kurtosis\n",
    "\n",
    "#plotting\n",
    "import matplotlib.pyplot as plt\n",
    "import seaborn as sns\n",
    "import logging\n",
    "\n",
    "#interactive display\n",
    "import ipywidgets as widgets\n",
    "from tqdm.notebook import tqdm as tqdm\n",
    "\n",
    "#modeling\n",
    "from sklearn.datasets import make_sparse_coded_signal, make_regression\n",
    "from sklearn.decomposition import DictionaryLearning, PCA\n",
    "from sklearn.linear_model import OrthogonalMatchingPursuit\n",
    "\n",
    "#utils\n",
    "import os"
   ]
  },
  {
   "cell_type": "markdown",
   "metadata": {},
   "source": [
    "##  Figure settings\n"
   ]
  },
  {
   "cell_type": "code",
   "execution_count": null,
   "metadata": {
    "cellView": "form",
    "execution": {},
    "tags": [
     "hide-input"
    ]
   },
   "outputs": [],
   "source": [
    "# @title Figure settings\n",
    "\n",
    "logging.getLogger('matplotlib.font_manager').disabled = True\n",
    "sns.set_context('talk')\n",
    "\n",
    "%matplotlib inline\n",
    "%config InlineBackend.figure_format = 'retina' # perfrom high definition rendering for images and plots\n",
    "plt.style.use(\"https://raw.githubusercontent.com/NeuromatchAcademy/course-content/main/nma.mplstyle\")"
   ]
  },
  {
   "cell_type": "markdown",
   "metadata": {},
   "source": [
    "##  Plotting functions\n"
   ]
  },
  {
   "cell_type": "code",
   "execution_count": null,
   "metadata": {
    "cellView": "form",
    "execution": {},
    "tags": [
     "hide-input"
    ]
   },
   "outputs": [],
   "source": [
    "# @title Plotting functions\n",
    "\n",
    "def remove_edges(ax, include_ticks = True, top = False, right = False, bottom = True, left = True):\n",
    "    ax.spines['top'].set_visible(top)\n",
    "    ax.spines['right'].set_visible(right)\n",
    "    ax.spines['bottom'].set_visible(bottom)\n",
    "    ax.spines['left'].set_visible(left)\n",
    "    if not include_ticks:\n",
    "        ax.get_xaxis().set_ticks([])\n",
    "        ax.get_yaxis().set_ticks([])\n",
    "\n",
    "def add_labels(ax, xlabel='X', ylabel='Y', zlabel='', title='', xlim = None, ylim = None, zlim = None,xticklabels = np.array([None]),\n",
    "               yticklabels = np.array([None] ), xticks = [], yticks = [], legend = [],\n",
    "               ylabel_params = {'fontsize':19},zlabel_params = {'fontsize':19}, xlabel_params = {'fontsize':19},\n",
    "               title_params = {'fontsize':29}, format_xticks = 0, format_yticks = 0):\n",
    "  \"\"\"\n",
    "  This function add labels, titles, limits, etc. to figures;\n",
    "  Inputs:\n",
    "      ax      = the subplot to edit\n",
    "      xlabel  = xlabel\n",
    "      ylabel  = ylabel\n",
    "      zlabel  = zlabel (if the figure is 2d please define zlabel = None)\n",
    "      etc.\n",
    "  \"\"\"\n",
    "  if xlabel != '' and xlabel != None: ax.set_xlabel(xlabel, **xlabel_params)\n",
    "  if ylabel != '' and ylabel != None:ax.set_ylabel(ylabel, **ylabel_params)\n",
    "  if zlabel != '' and zlabel != None:ax.set_zlabel(zlabel,**zlabel_params)\n",
    "  if title != '' and title != None: ax.set_title(title, **title_params)\n",
    "  if xlim != None: ax.set_xlim(xlim)\n",
    "  if ylim != None: ax.set_ylim(ylim)\n",
    "  if zlim != None: ax.set_zlim(zlim)\n",
    "\n",
    "  if (np.array(xticklabels) != None).any():\n",
    "      if len(xticks) == 0: xticks = np.arange(len(xticklabels))\n",
    "      ax.set_xticks(xticks);\n",
    "      ax.set_xticklabels(xticklabels);\n",
    "  if (np.array(yticklabels) != None).any():\n",
    "      if len(yticks) == 0: yticks = np.arange(len(yticklabels)) +0.5\n",
    "      ax.set_yticks(yticks);\n",
    "      ax.set_yticklabels(yticklabels);\n",
    "  if len(legend)       > 0:  ax.legend(legend)\n",
    "\n",
    "def plot_signal(signal, title = \"Pixel's activity over time\", ylabel = '$pixel_t$'):\n",
    "    \"\"\"\n",
    "    Plot the given signal over time.\n",
    "\n",
    "    Inputs:\n",
    "    - signal (np.array): given signal.\n",
    "    - title (str, default = \"Pixel's activity over time\"): title to give to the plot.\n",
    "    - ylabel (str, default = '$pixel_t$'): y-axis label.\n",
    "    \"\"\"\n",
    "    with plt.xkcd():\n",
    "        fig, ax = plt.subplots(1,1, figsize = (30,10), sharex = True)\n",
    "        ax.plot(signal, lw = 5)\n",
    "        ax.set_xlim(left = 0)\n",
    "        ax.set_ylim(bottom = 0)\n",
    "        add_labels(ax, xlabel = 'Time (Frames)',ylabel = ylabel, title = title)\n",
    "        remove_edges(ax)\n",
    "    plt.show()\n",
    "\n",
    "def plot_relu_signal(signal, theta = 0):\n",
    "    \"\"\"\n",
    "    Plot the given signal over time and its thresholded value with the given theta.\n",
    "\n",
    "    Inputs:\n",
    "    - signal (np.array): given signal.\n",
    "    - theta (float, default = 0): threshold parameter.\n",
    "    \"\"\"\n",
    "    with plt.xkcd():\n",
    "        fig, ax = plt.subplots(1,1, figsize = (30,10), sharex = True)\n",
    "        ax.plot(sig, lw = 5)\n",
    "        thres_x = ReLU(signal, theta)\n",
    "        ax.plot(thres_x, lw = 5)\n",
    "        ax.set_xlim(left = 0)\n",
    "        ax.legend(['Signal', '$ReLU_{%d}$(signal)'%theta], ncol = 2)\n",
    "        add_labels(ax, xlabel = 'Time', ylabel = 'Signal')\n",
    "        remove_edges(ax)\n",
    "    plt.show()\n",
    "\n",
    "def plot_relu_histogram(signal, theta = 0):\n",
    "    \"\"\"\n",
    "    Plot histogram of the values in the signal before and after applying ReLU operation with the given threshold.\n",
    "\n",
    "    Inputs:\n",
    "    - signal (np.array): given signal.\n",
    "    - theta (float, default = 0): threshold parameter.\n",
    "    \"\"\"\n",
    "    with plt.xkcd():\n",
    "        fig, axs = plt.subplots(1,2,figsize = (15,10), sharex = True, sharey = True)\n",
    "        thres_x = ReLU(signal, theta)\n",
    "        axs[0].hist(sig, bins = 100)\n",
    "        axs[1].hist(thres_x, bins = 100)\n",
    "        [remove_edges(ax) for ax in axs]\n",
    "        [add_labels(ax, ylabel = 'Count', xlabel = 'Value') for ax in axs]\n",
    "        [ax.set_title(title) for title, ax in zip(['Before Thresholding', 'After Thresholding'], axs)]\n",
    "    plt.show()\n",
    "\n",
    "def plot_relu_signals(signal, theta_values):\n",
    "    \"\"\"\n",
    "    Plot the given signal over time and its thresholded value with the given theta values.\n",
    "\n",
    "    Inputs:\n",
    "    - signal (np.array): given signal.\n",
    "    - theta_values (np.array): threshold parameter.\n",
    "    \"\"\"\n",
    "    #define colormap\n",
    "    cmap_name = 'viridis'\n",
    "    samples = np.linspace(0, 1, theta_values.shape[0])\n",
    "    colors = plt.colormaps[cmap_name](samples)\n",
    "\n",
    "    fig, ax = plt.subplots(1,1, figsize = (30,10), sharex = True)\n",
    "    for counter, theta in enumerate(theta_values):\n",
    "      ax.plot(ReLU(signal, theta), label = '$\\\\theta = %d$'%theta, color = colors[counter])\n",
    "    ax.set_xlim(left = 0)\n",
    "    ax.legend(ncol = 5)\n",
    "    add_labels(ax, xlabel = 'Time', ylabel = '$ReLU_{\\\\theta}$(Signal)')\n",
    "    remove_edges(ax)\n",
    "\n",
    "def plot_kurtosis(signal, theta_values):\n",
    "    \"\"\"\n",
    "    Plot kurtosis value for the signal before and after applying ReLU operation with the given threshold values.\n",
    "\n",
    "    Inputs:\n",
    "    - signal (np.array): given signal.\n",
    "    - theta_values (np.array): array of threshold parameters.\n",
    "    \"\"\"\n",
    "    with plt.xkcd():\n",
    "        fig, ax = plt.subplots()\n",
    "        relus = [kurtosis(ReLU(signal, theta)) for theta in theta_values]\n",
    "        pd.DataFrame([kurtosis(signal)] + relus, index = ['Signal']+ ['$ReLU_{%d}$(signal)'%theta for theta in theta_values], columns = ['kurtosis']).plot.bar(ax = ax, alpha = 0.5, color = 'purple')\n",
    "        remove_edges(ax)\n",
    "    plt.show()\n",
    "\n",
    "def plot_images(images):\n",
    "    \"\"\"\n",
    "    Plot given images.\n",
    "\n",
    "    Inputs:\n",
    "    - images (list): list of 2D np.arrays which represent images.\n",
    "    \"\"\"\n",
    "    with plt.xkcd():\n",
    "        fig, ax = plt.subplots(1, len(images), figsize = (20,8))\n",
    "        if len(images) == 1:\n",
    "            ax.imshow(images[0])\n",
    "        else:\n",
    "            for index, image in enumerate(images):\n",
    "                ax[index].imshow(image)\n",
    "    plt.show()\n",
    "\n",
    "def plot_labeled_kurtosis(frame, frame_HT, labels = ['Frame', 'HT(frame)']):\n",
    "    \"\"\"\n",
    "    Plot kurtosis value for the frame before and after applying hard threshold operation.\n",
    "\n",
    "    Inputs:\n",
    "    - frame (np.array): given image.\n",
    "    - frame_HT (np.array): thresholded version of the given image.\n",
    "    - labels (list): list of labels to apply for the igven data.\n",
    "    \"\"\"\n",
    "    with plt.xkcd():\n",
    "        fig, ax = plt.subplots()\n",
    "        pd.DataFrame([kurtosis(frame.flatten()), kurtosis(frame_HT.flatten())],index = labels, columns = ['kurtosis']).plot.bar(ax = ax, alpha = 0.5, color = 'purple')\n",
    "        remove_edges(ax)\n",
    "    plt.show()\n",
    "\n",
    "def plot_temporal_difference_histogram(signal, temporal_diff):\n",
    "    \"\"\"\n",
    "    Plot histogram for the values of the given signal as well as for its temporal differenced version.\n",
    "\n",
    "    Inputs:\n",
    "    - signal (np.array): given signal.\n",
    "    - temporal_diff (np.array): temporal differenced version of the signal.\n",
    "    \"\"\"\n",
    "    with plt.xkcd():\n",
    "        fig, axs = plt.subplots(1,2,figsize = (15,5), sharex = True, sharey = True)\n",
    "        axs[0].hist(signal, bins = 100);\n",
    "        axs[1].hist(temporal_diff, bins = 100);\n",
    "        [remove_edges(ax) for ax in axs]\n",
    "        [add_labels(ax, ylabel = 'Count', xlabel = 'Value') for ax in axs]\n",
    "        [ax.set_title(title) for title, ax in zip(['Pixel \\n Before Diff.', 'Frame \\n After Diff.'], axs)]\n",
    "    plt.show()\n",
    "\n",
    "def plot_temp_diff_histogram(signal, taus, taus_list):\n",
    "    \"\"\"\n",
    "    Plot the histogram for the given signal over time and its temporal differenced versions for different values of lag \\tau.\n",
    "\n",
    "    Inputs:\n",
    "    - signal (np.array): given signal.\n",
    "    - taus (np.array): array of tau values (lags).\n",
    "    - taus_list (list): temporal differenced versions of the given signal.\n",
    "    \"\"\"\n",
    "    #define colormap\n",
    "    cmap_name = 'cool'\n",
    "    samples = np.linspace(0, 1, taus.shape[0])\n",
    "    colors = plt.colormaps[cmap_name](samples)\n",
    "\n",
    "    with plt.xkcd():\n",
    "\n",
    "        # histograms\n",
    "        bin_edges = np.arange(0, 256, 5)  # Define bin edges from 0 to 255 with a step of 5\n",
    "\n",
    "        # Compute histogram values using custom bin edges\n",
    "        hist = [np.histogram(tau_list, bins=bin_edges)[0] for tau, tau_list in zip(taus, taus_list)]\n",
    "\n",
    "\n",
    "        fig, ax = plt.subplots(figsize = (20,5))\n",
    "        [ax.plot(bin_edges[:-1]*0.5 + bin_edges[1:]*0.5, np.vstack(hist)[j], marker = 'o', color = colors[j], label = '$\\\\tau = %d$'%taus[j]) for j in range(len(taus))]\n",
    "        ax.legend(ncol = 2)\n",
    "        remove_edges(ax)\n",
    "        ax.set_xlim(left = 0, right = 100)\n",
    "        add_labels(ax, xlabel = '$\\\\tau$', ylabel = 'Count')\n",
    "    plt.show()\n",
    "\n",
    "def plot_temp_diff_separate_histograms(signal, lags, lags_list, tau = True):\n",
    "    \"\"\"\n",
    "    Plot the histogram for the given signal over time and its temporal differenced versions for different values of lag \\tau or windows.\n",
    "\n",
    "    Inputs:\n",
    "    - signal (np.array): given signal.\n",
    "    - lags (np.array): array of lags (taus or windows).\n",
    "    - lags_list (list): temporal differenced versions of the given signal.\n",
    "    - tau (bool, default = True): which regime to use (tau or window).\n",
    "    \"\"\"\n",
    "    with plt.xkcd():\n",
    "        cmap_name = 'cool'\n",
    "        samples = np.linspace(0, 1, taus.shape[0])\n",
    "        colors = plt.colormaps[cmap_name](samples)\n",
    "\n",
    "        fig, axs = plt.subplots(2, int(0.5*(2+lags.shape[0])),figsize = (25,19), sharex = True, sharey = False)\n",
    "        axs = axs.flatten()\n",
    "        axs[0].hist(signal, bins = 100, color = 'black');\n",
    "\n",
    "        if tau:\n",
    "            # histograms\n",
    "            bin_edges = np.arange(0, 256, 5)  # Define bin edges from 0 to 255 with a step of 5\n",
    "\n",
    "            # Compute histogram values using custom bin edges\n",
    "            hist = [np.histogram(lag_list, bins=bin_edges)[0] for lag, lag_list in zip(lags, lags_list)]\n",
    "\n",
    "            [axs[j+1].bar(bin_edges[:-1]*0.5 + bin_edges[1:]*0.5, np.abs( np.vstack(hist)[j]), color = colors[j]) for j in range(len(lags))]\n",
    "\n",
    "        else:\n",
    "            [axs[j+1].hist(np.abs(signal - ema_values_i), bins = 100, color = colors[j]) for j, ema_values_i in enumerate(lags_list)]\n",
    "\n",
    "        [remove_edges(ax) for ax in axs]\n",
    "        [add_labels(ax, ylabel = 'Count', xlabel = 'Value') for ax in axs]\n",
    "        axs[0].set_title('Pixel \\n Before Diff.');\n",
    "        if tau:\n",
    "            [ax.set_title( '$\\\\tau$ %.2f'%lags[j]) for  j, ax in enumerate(axs[1:]) if j < lags.shape[0]]\n",
    "        else:\n",
    "            [ax.set_title( 'Window %d'%lags[j]) for  j, ax in enumerate(axs[1:]) if j < lags.shape[0]]\n",
    "    plt.show()\n",
    "\n",
    "def plot_temp_diff_kurtosis(signal, lags, lags_list, tau = True):\n",
    "    \"\"\"\n",
    "    Plot the kurtosis for the given signal over time and its temporal differenced versions for different values of lag \\tau or windows.\n",
    "\n",
    "    Inputs:\n",
    "    - signal (np.array): given signal.\n",
    "    - lags (np.array): array of lags (taus or windows).\n",
    "    - lags_list (list): temporal differenced versions of the given signal.\n",
    "    - tau (bool, default = True): which regime to use (tau or window).\n",
    "    \"\"\"\n",
    "    with plt.xkcd():\n",
    "        if tau:\n",
    "            fig, ax = plt.subplots(figsize = (10,3))\n",
    "            tauskur = [kurtosis(tau_i) for tau_i in lags_list]\n",
    "            pd.DataFrame([kurtosis(signal)] + tauskur, index = ['Signal']+ ['$\\\\tau = {%d}$'%tau for tau in lags], columns = ['kurtosis']).plot.barh(ax = ax, alpha = 0.5, color = 'purple')\n",
    "            remove_edges(ax)\n",
    "        else:\n",
    "            fig, ax = plt.subplots(figsize = (7,7))\n",
    "            tauskur = [kurtosis(np.abs(signal - ema_values_i)) for ema_values_i in lags_list]\n",
    "            pd.DataFrame([kurtosis(signal)] + tauskur, index = ['Signal']+ ['$window = {%d}$'%tau for tau in lags], columns = ['kurtosis']).plot.bar(ax = ax, alpha = 0.5, color = 'purple')\n",
    "            remove_edges(ax)\n",
    "\n",
    "def plot_ema(signal, window, ema_signal):\n",
    "    \"\"\"\n",
    "    Plot signal, the window function and the resulted convolution.\n",
    "\n",
    "    Inputs:\n",
    "    - signal (np.array): the given signal.\n",
    "    - window (int): size of the window function.\n",
    "    - ema_signal (np.array): the resulted signal.\n",
    "    \"\"\"\n",
    "    weights = np.exp(np.linspace(-1., 0., window))\n",
    "    weights /= weights.sum()\n",
    "\n",
    "    with plt.xkcd():\n",
    "            fig, ax = plt.subplots(nrows=1, ncols=3, figsize=(15, 4))\n",
    "            ax[0].plot(signal)\n",
    "            ax[0].set_title('Signal')\n",
    "            ax[1].plot(weights)\n",
    "            ax[1].set_title('Window Function')\n",
    "            ax[2].plot(ema_signal)\n",
    "            ax[2].set_title('EMA Signal')\n",
    "            plt.subplots_adjust(wspace=0.3)\n",
    "    plt.show()\n",
    "\n",
    "def plot_diff_with_ema(signal, windows, ema_values):\n",
    "    \"\"\"\n",
    "    Plot difference between given signal and EMA ones for different windows.\n",
    "\n",
    "    Inputs:\n",
    "    - signal (np.array): given signal.\n",
    "    - windows (np.array): list of window sizes.\n",
    "    - ema_values (list): list for EMA versions of the signal.\n",
    "    \"\"\"\n",
    "    with plt.xkcd():\n",
    "        cmap_name = 'cool'\n",
    "        samples = np.linspace(0, 1, windows.shape[0])\n",
    "        colors = plt.colormaps[cmap_name](samples)\n",
    "\n",
    "        fig, ax = plt.subplots(figsize = (20,10))\n",
    "        ax.plot(signal, label = \"Signal\")\n",
    "        [ax.plot(signal - ema_values_i, color = colors[j], label = 'window = %d'%windows[j]) for j, ema_values_i in enumerate(ema_values)]\n",
    "        ax.legend(ncol = 4)\n",
    "        remove_edges(ax)\n",
    "        ax.set_xlim(left = 0, right = 100)\n",
    "        add_labels(ax, xlabel = 'Time (frame)', ylabel = '$\\Delta(pixel)$')\n",
    "    plt.show()\n",
    "\n",
    "def plot_spatial_diff(frame, diff_x,  diff_y):\n",
    "    \"\"\"\n",
    "    Plot spatial differentiation of the given image with lag one.\n",
    "\n",
    "    Inputs:\n",
    "    - frame (np.array): given 2D signal (image).\n",
    "    - diff_x (np.array): spatial difference along x-axis.\n",
    "    - diff_y (np.array): spatial difference along y-axis.\n",
    "    \"\"\"\n",
    "\n",
    "    with plt.xkcd():\n",
    "        fig, axs = plt.subplots(1,3, figsize = (50,10))\n",
    "        diff_x_norm = (diff_x - np.percentile(diff_x, 10))/(np.percentile(diff_x, 90) - np.percentile(diff_x, 10))\n",
    "        diff_x_norm = diff_x_norm*255\n",
    "        diff_x_norm[diff_x_norm > 255] = 255\n",
    "        diff_x_norm[diff_x_norm < 0] = 0\n",
    "        axs[0].imshow(diff_x_norm.astype(np.uint8))\n",
    "        diff_y_norm = (diff_y - np.percentile(diff_y, 10))/(np.percentile(diff_y, 90) - np.percentile(diff_y, 10))\n",
    "        diff_y_norm = diff_y_norm*255\n",
    "        diff_y_norm[diff_y_norm > 255] = 255\n",
    "        diff_y_norm[diff_y_norm < 0] = 0\n",
    "        axs[1].imshow(diff_y_norm.astype(np.uint8))\n",
    "        axs[2].imshow(frame)\n",
    "        [ax.set_xticks([]) for ax in axs]\n",
    "        [ax.set_yticks([]) for ax in axs]\n",
    "        [ax.set_title(title, fontsize = 40) for title, ax in zip(['$\\Delta x$', '$\\Delta y$', 'Original'], axs)];\n",
    "\n",
    "def plot_spatial_diff_histogram(taus, taus_list_x, taus_list_y):\n",
    "    \"\"\"\n",
    "    Plot histograms for each of the spatial differenced version of the signal.\n",
    "    \"\"\"\n",
    "\n",
    "    with plt.xkcd():\n",
    "        cmap_name = 'cool'\n",
    "        samples = np.linspace(0, 1, taus.shape[0])\n",
    "        colors = plt.colormaps[cmap_name](samples)\n",
    "\n",
    "        # histograms (built in solution)\n",
    "\n",
    "        bin_edges = np.arange(0, 256, 5)  # Define bin edges from 0 to 255 with a step of 5\n",
    "\n",
    "        hist_x = [np.histogram(tau_list.flatten() ,  bins=bin_edges)[0] for tau, tau_list in zip(taus, taus_list_x )]\n",
    "        hist_y = [np.histogram(tau_list.flatten(),  bins=bin_edges)[0] for tau, tau_list in zip(taus, taus_list_y)]\n",
    "\n",
    "        fig, axs = plt.subplots(2,1,figsize = (20,9))\n",
    "        ax = axs[0]\n",
    "        [ax.plot(bin_edges[:-1]*0.5 + bin_edges[1:]*0.5, np.vstack(hist_x)[j], marker = 'o', color = colors[j], label = '$\\\\tau = %d$'%taus[j]) for j in range(len(taus))]\n",
    "        ax.set_yscale('log')\n",
    "        ax.legend(ncol = 2)\n",
    "        remove_edges(ax)\n",
    "        ax.set_xlim(left = 0, right = 100)\n",
    "        add_labels(ax, xlabel = '$\\\\tau_x$', ylabel = 'Count', title = 'Diff. in $x$')\n",
    "\n",
    "        ax = axs[1]\n",
    "        [ax.plot(bin_edges[:-1]*0.5 + bin_edges[1:]*0.5, np.vstack(hist_y)[j], marker = 'o', color = colors[j], label = '$\\\\tau = %d$'%taus[j]) for j in range(len(taus))]\n",
    "        ax.set_yscale('log')\n",
    "        ax.legend(ncol = 2)\n",
    "        remove_edges(ax)\n",
    "        ax.set_xlim(left = 0, right = 100)\n",
    "        add_labels(ax, xlabel = '$\\\\tau_y$', ylabel = 'Count', title = 'Diff. in $y$')\n",
    "\n",
    "        fig.tight_layout()\n",
    "    plt.show()\n",
    "\n",
    "def plot_spatial_kurtosis(signal, diff_x, diff_y):\n",
    "    \"\"\"\n",
    "    Plot kurtosis for the signal and its spatial differenced version.\n",
    "    \"\"\"\n",
    "    with plt.xkcd():\n",
    "        fig, ax = plt.subplots()\n",
    "        pd.DataFrame([kurtosis(sig.flatten()), kurtosis(diff_x.flatten()), kurtosis(diff_y.flatten())],index = ['Signal', 'Diff $x$', 'Diff $y$'], columns = ['kurtosis']).plot.barh(ax = ax, alpha = 0.5, color = 'purple')\n",
    "        remove_edges(ax)\n",
    "    plt.show()\n",
    "\n",
    "def plot_spatial_histogram(frame, diff_x, diff_y):\n",
    "    \"\"\"\n",
    "    Plot histogram for values in frame and differenced versions.\n",
    "    \"\"\"\n",
    "    with plt.xkcd():\n",
    "        fig, axs = plt.subplots(1,3,figsize = (25,10), sharex = True, sharey = True)\n",
    "        axs[0].hist(np.abs(frame.flatten()), bins = 100);\n",
    "        axs[1].hist(np.abs(diff_x.flatten()), bins = 100);\n",
    "        axs[2].hist(np.abs(diff_y.flatten()), bins = 100);\n",
    "        [remove_edges(ax) for ax in axs]\n",
    "        [add_labels(ax, ylabel = 'Count', xlabel = 'Value') for ax in axs]\n",
    "        [ax.set_title(title) for title, ax in zip(['Frame \\n Before Diff.', 'Frame \\n After Diff. x', 'Frame \\n After Diff. x'], axs)]\n",
    "\n",
    "def visualize_images_ema(frame, ema_values_x, ema_values_y):\n",
    "    \"\"\"\n",
    "    Plot images with EMA difference method.\n",
    "    \"\"\"\n",
    "    with plt.xkcd():\n",
    "        cmap_name = 'cool'\n",
    "        samples = np.linspace(0, 1, num_winds)\n",
    "        colors = plt.colormaps[cmap_name](samples)\n",
    "        fig, axs = plt.subplots( 2, int(0.5*(2+ len(ema_values_x))),  figsize = (50,15))\n",
    "        axs = axs.flatten()\n",
    "        axs[0].imshow(frame)\n",
    "        [axs[j+1].imshow(normalize(frame - ema_values_i)) for j, ema_values_i in enumerate(ema_values_x)]\n",
    "        remove_edges(axs[-1], left = False, bottom = False, include_ticks=  False)\n",
    "        fig.suptitle('x diff')\n",
    "\n",
    "        fig, axs = plt.subplots( 2, int(0.5*(2+ len(ema_values_x))),  figsize = (50,15))\n",
    "        axs = axs.flatten()\n",
    "        axs[0].imshow(frame)\n",
    "        [axs[j+1].imshow(normalize(frame.T - ema_values_i).T) for j, ema_values_i in enumerate(ema_values_y)]\n",
    "        remove_edges(axs[-1], left = False, bottom = False, include_ticks=  False)\n",
    "        fig.suptitle('y diff')\n",
    "\n",
    "def create_legend(dict_legend, size = 30, save_formats = ['.png','.svg'],\n",
    "                      save_addi = 'legend' , dict_legend_marker = {},\n",
    "                      marker = '.', style = 'plot', s = 500, plot_params = {'lw':5},\n",
    "                      params_leg = {}):\n",
    "    fig, ax = plt.subplots(figsize = (5,5))\n",
    "    if style == 'plot':\n",
    "        [ax.plot([],[],\n",
    "                     c = dict_legend[area], label = area, marker = dict_legend_marker.get(area), **plot_params) for area in dict_legend]\n",
    "    else:\n",
    "        if len(dict_legend_marker) == 0:\n",
    "            [ax.scatter([],[], s=s,c = dict_legend.get(area), label = area, marker = marker, **plot_params) for area in dict_legend]\n",
    "        else:\n",
    "            [ax.scatter([],[], s=s,c = dict_legend[area], label = area, marker = dict_legend_marker.get(area), **plot_params) for area in dict_legend]\n",
    "    ax.legend(prop = {'size':size},**params_leg)\n",
    "    remove_edges(ax, left = False, bottom = False, include_ticks = False)"
   ]
  },
  {
   "cell_type": "code",
   "execution_count": null,
   "metadata": {
    "execution": {}
   },
   "outputs": [],
   "source": [
    "# @Helper functions\n",
    "def normalize(mat):\n",
    "  mat_norm = (mat - np.percentile(mat, 10))/(np.percentile(mat, 90) - np.percentile(mat, 10))\n",
    "  mat_norm = mat_norm*255\n",
    "  mat_norm[mat_norm > 255] = 255\n",
    "  mat_norm[mat_norm < 0] = 0\n",
    "  return mat_norm"
   ]
  },
  {
   "cell_type": "markdown",
   "metadata": {},
   "source": [
    "##  Data retrieval\n"
   ]
  },
  {
   "cell_type": "code",
   "execution_count": null,
   "metadata": {
    "cellView": "form",
    "execution": {},
    "tags": [
     "hide-input"
    ]
   },
   "outputs": [],
   "source": [
    "# @title Data retrieval\n",
    "\n",
    "import os\n",
    "import requests\n",
    "import hashlib\n",
    "\n",
    "# Variables for file and download URL\n",
    "fnames = [\"frame1.npy\", \"sig.npy\", \"reweight_digits.npy\"] # The names of the files to be downloaded\n",
    "urls = [\"https://osf.io/n652y/download\", \"https://osf.io/c9qxk/download\", \"https://osf.io/ry5am/download\"] # URLs from where the files will be downloaded\n",
    "expected_md5s = [\"6ce619172367742dd148cc5830df908c\", \"f3618e05e39f6df5997f78ea668f2568\", \"1f2f3a5d08e13ed2ec3222dca1e85b60\"] # MD5 hashes for verifying files integrity\n",
    "\n",
    "for fname, url, expected_md5 in zip(fnames, urls, expected_md5s):\n",
    "    if not os.path.isfile(fname):\n",
    "        try:\n",
    "            # Attempt to download the file\n",
    "            r = requests.get(url) # Make a GET request to the specified URL\n",
    "        except requests.ConnectionError:\n",
    "            # Handle connection errors during the download\n",
    "            print(\"!!! Failed to download data !!!\")\n",
    "        else:\n",
    "            # No connection errors, proceed to check the response\n",
    "            if r.status_code != requests.codes.ok:\n",
    "                # Check if the HTTP response status code indicates a successful download\n",
    "                print(\"!!! Failed to download data !!!\")\n",
    "            elif hashlib.md5(r.content).hexdigest() != expected_md5:\n",
    "                # Verify the integrity of the downloaded file using MD5 checksum\n",
    "                print(\"!!! Data download appears corrupted !!!\")\n",
    "            else:\n",
    "                # If download is successful and data is not corrupted, save the file\n",
    "                with open(fname, \"wb\") as fid:\n",
    "                    fid.write(r.content) # Write the downloaded content to a file"
   ]
  },
  {
   "cell_type": "markdown",
   "metadata": {},
   "source": [
    "##  Set random seed\n"
   ]
  },
  {
   "cell_type": "code",
   "execution_count": null,
   "metadata": {
    "cellView": "form",
    "execution": {},
    "tags": [
     "hide-input"
    ]
   },
   "outputs": [],
   "source": [
    "# @title Set random seed\n",
    "\n",
    "import random\n",
    "import numpy as np\n",
    "\n",
    "def set_seed(seed=None, seed_torch=True):\n",
    "  if seed is None:\n",
    "    seed = np.random.choice(2 ** 32)\n",
    "  random.seed(seed)\n",
    "  np.random.seed(seed)\n",
    "\n",
    "set_seed(seed = 42)"
   ]
  },
  {
   "cell_type": "markdown",
   "metadata": {
    "execution": {}
   },
   "source": [
    "---\n",
    "\n",
    "# Section 1: Natural sparsity\n",
    "\n",
    "Under what secnarios do we get sparsity in real life? In the first section, we will explore different ways to achieve sparsity in real-world signals."
   ]
  },
  {
   "cell_type": "markdown",
   "metadata": {},
   "source": [
    "##  Video 1: Introduction to sparsity\n"
   ]
  },
  {
   "cell_type": "code",
   "execution_count": null,
   "metadata": {
    "cellView": "form",
    "execution": {},
    "tags": [
     "remove-input"
    ]
   },
   "outputs": [],
   "source": [
    "# @title Video 1: Introduction to sparsity\n",
    "\n",
    "from ipywidgets import widgets\n",
    "from IPython.display import YouTubeVideo\n",
    "from IPython.display import IFrame\n",
    "from IPython.display import display\n",
    "\n",
    "\n",
    "class PlayVideo(IFrame):\n",
    "  def __init__(self, id, source, page=1, width=400, height=300, **kwargs):\n",
    "    self.id = id\n",
    "    if source == 'Bilibili':\n",
    "      src = f'https://player.bilibili.com/player.html?bvid={id}&page={page}'\n",
    "    elif source == 'Osf':\n",
    "      src = f'https://mfr.ca-1.osf.io/render?url=https://osf.io/download/{id}/?direct%26mode=render'\n",
    "    super(PlayVideo, self).__init__(src, width, height, **kwargs)\n",
    "\n",
    "\n",
    "def display_videos(video_ids, W=400, H=300, fs=1):\n",
    "  tab_contents = []\n",
    "  for i, video_id in enumerate(video_ids):\n",
    "    out = widgets.Output()\n",
    "    with out:\n",
    "      if video_ids[i][0] == 'Youtube':\n",
    "        video = YouTubeVideo(id=video_ids[i][1], width=W,\n",
    "                             height=H, fs=fs, rel=0)\n",
    "        print(f'Video available at https://youtube.com/watch?v={video.id}')\n",
    "      else:\n",
    "        video = PlayVideo(id=video_ids[i][1], source=video_ids[i][0], width=W,\n",
    "                          height=H, fs=fs, autoplay=False)\n",
    "        if video_ids[i][0] == 'Bilibili':\n",
    "          print(f'Video available at https://www.bilibili.com/video/{video.id}')\n",
    "        elif video_ids[i][0] == 'Osf':\n",
    "          print(f'Video available at https://osf.io/{video.id}')\n",
    "      display(video)\n",
    "    tab_contents.append(out)\n",
    "  return tab_contents\n",
    "\n",
    "\n",
    "video_ids = [('Youtube', 'TQdxKttMYlc')]\n",
    "tab_contents = display_videos(video_ids, W=730, H=410)\n",
    "tabs = widgets.Tab()\n",
    "tabs.children = tab_contents\n",
    "for i in range(len(tab_contents)):\n",
    "  tabs.set_title(i, video_ids[i][0])\n",
    "display(tabs)"
   ]
  },
  {
   "cell_type": "markdown",
   "metadata": {
    "execution": {}
   },
   "source": [
    "## Coding Exercise 1\n",
    "\n",
    "In this exercise, we will understand causes of sparsity by measuring sparsity under different operations:\n",
    "nonlinearity, e.g. thresholding. We will create temporal sparsity in 1D time series (e.g. piecewise constant) by feedforward inhibition (or temporal differencing) as well as we will create population sparsity by lateral inhibition on images."
   ]
  },
  {
   "cell_type": "markdown",
   "metadata": {
    "execution": {}
   },
   "source": [
    "For the first exercise, we will focus on a video of a bird in San Fransisco, and extract both temporal and spatial sparsity\n",
    "![image_clean_small.jpg](data:image/jpeg;base64,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)\n",
    "\n",
    "for the temporal sparsity, we will focus on the activity of a specific pixel over time (Frames)\n",
    "\n",
    "![img_with_red_sq.jpg](data:image/jpeg;base64,/9j/4AAQSkZJRgABAQEASABIAAD/4gHYSUNDX1BST0ZJTEUAAQEAAAHIAAAAAAQwAABtbnRyUkdCIFhZWiAH4AABAAEAAAAAAABhY3NwAAAAAAAAAAAAAAAAAAAAAAAAAAAAAAAAAAAAAQAA9tYAAQAAAADTLQAAAAAAAAAAAAAAAAAAAAAAAAAAAAAAAAAAAAAAAAAAAAAAAAAAAAAAAAAAAAAAAAAAAAlkZXNjAAAA8AAAACRyWFlaAAABFAAAABRnWFlaAAABKAAAABRiWFlaAAABPAAAABR3dHB0AAABUAAAABRyVFJDAAABZAAAAChnVFJDAAABZAAAAChiVFJDAAABZAAAAChjcHJ0AAABjAAAADxtbHVjAAAAAAAAAAEAAAAMZW5VUwAAAAgAAAAcAHMAUgBHAEJYWVogAAAAAAAAb6IAADj1AAADkFhZWiAAAAAAAABimQAAt4UAABjaWFlaIAAAAAAAACSgAAAPhAAAts9YWVogAAAAAAAA9tYAAQAAAADTLXBhcmEAAAAAAAQAAAACZmYAAPKnAAANWQAAE9AAAApbAAAAAAAAAABtbHVjAAAAAAAAAAEAAAAMZW5VUwAAACAAAAAcAEcAbwBvAGcAbABlACAASQBuAGMALgAgADIAMAAxADb/2wBDAAoHBwgHBgoICAgLCgoLDhgQDg0NDh0VFhEYIx8lJCIfIiEmKzcvJik0KSEiMEExNDk7Pj4+JS5ESUM8SDc9Pjv/2wBDAQoLCw4NDhwQEBw7KCIoOzs7Ozs7Ozs7Ozs7Ozs7Ozs7Ozs7Ozs7Ozs7Ozs7Ozs7Ozs7Ozs7Ozs7Ozs7Ozs7Ozv/wAARCADlAYgDASIAAhEBAxEB/8QAGwAAAgMBAQEAAAAAAAAAAAAAAAECAwQFBgf/xABQEAABAwIDAwYKBAoHCAMBAAABAAIDBBEFEiETMUEGFFFhkZMVIlJVcYGSodHTMkJywRYjNTZDU2J0s+EzNEVUVrGyJERGc4KUovBjg/HS/8QAGQEBAQEBAQEAAAAAAAAAAAAAAAECAwQF/8QALhEAAgIBBQABAgUEAgMAAAAAAAECERIDEyExUUEEYRQiMqHwcYGRsUNSwdHh/9oADAMBAAIRAxEAPwD7MhCEAKDpY2vaxz2h7votJ1PoU15PGsPqZsYqS2iklmndTGkqWsuIQx93+N9S2p6721QHrELicqJK+kwyStoq99OYsoyCNjg67gLm4vuK4nhDG/PD+4j+CqVnOepGHZ7ZC8Y2sxt27GH9xH8FI1OOeeJP+3j+ClpGPxED2KF4w1mODfjEncR/BR8IY154k/7eP/8AlVKx+Ige1QvEnEca88v7iP4KPhLHPPD+4j+CuLG/A9wheH8JY554f3EfwR4Sxzzw/uI/gmDLvQPcIXh/CWOeeH9xH8EeEsc88P7iP4JgxvQPcIXh/CWOeeH9xH8EeEsc88P7iP4JgxvQPcIXh/CWOeeH9xH8EeEsc88P7iP4JgxvQPcIXh/CWOeeH9xH8EeEsc88P7iP4JgxvQPcIXh/CWOeeH9xH8EeEsc88P7iP4JgxvQPcIXh/CWOeeH9xH8EeEsc88P7iP4JgxvQPcIXh/CWOeeH9xH8EeEsc88P7iP4JgxvQPcIXh/CWOeeH9xH8EeEsc88P7iP4JgxvQPcIXh/CWOeeH9xH8EeEsc88P7iP4JgxvQPcIXh/CWOeeH9xH8EeEsc88P7iP4JgxvQPcIXh/CWOeeH9xH8EeEsc88P7iP4JgxvQPcIXiPCOOeeH9xH8EeEcb88P7iP4Jiyb8D26F4jwjjfnh/cR/BHhHG/PD+4j+CYsu/A9uheH8JY554f3EfwUhiGNn+2H9xH8ExZN+B7ZC8cKnHSLjGH2/5EfwUHVuOt34u//t4/gsqmPxED2iF4jwhjnnd/cR/BMV+OeeH9xH8FrFj8RpntkLxJxDGx/bD+4j+CXhHHPPD+4j+CYsb8D26FxeS9dV12HTPrJttJHUPjD8obcC1tBpxQsnZO1Z2kIQhQQhCA43K3826n7Uf8Rq4oa07wu1ys/Nyp+1H/ABGrj2so2eL6rtDaMp0WmN4IsQs19E89lxnDI80ZYmssY4bgsFQxrXWCvbKeKpks95KaMZRlyzU5JrgpbG558UJup5G72rXT2C2ANI1Cav1Tg+jUIZLs4haQdUrLq1EEZFw2x6lz3xlp3L0aWutRWZknF0yqxRZTGnBO7eIXWzORCyVlZohLGRWiykQlZWy2KyLJoVFiQmhBYkJoQCQmhAKyLJoQCQmhCiTQhCAhCFACEIVAk0AXUgxRslkVNouUZbIsVlsjZric22Uq0NYsbC4bleHkBePU0+eGajIjJEAdCqXMIVjp7brKp0pK7QU/kw6+Cs6FJMm6TiACTuC7mkdvkd+Tar98k+5ChyJftMJqXdNZJ9yFyfZ9WKpJM9GhCpqXzsp3OpYWTTC2Vj5MgOvE2NtOpQpchedZymqaiKJlNhrJap22c6M1FmZInBrnNfl8a5cANB6rIj5V7dzJoaLNRZ4GSzOls5jpQ3LZttQMzbm438UBq5V/m7Ufaj/iNXJIW3ljX0sGDSUskzWzSujyMO934xqwB5WJJni+p7QieCk0C2qgTcoBIRrg8llx3WCryFSa4gapl11jlGuGJt2laGSdKoupA6LnOOXZqLroue8WKxSyXKk95GiqIJXXR01EzOWRAm/BKysDFjxev8F4dJViLaFlvFva9yBv9a7uairNaOnPW1I6emrbaS/qzQAVIehcfAcfdjUs0ZphDs2g3D817+pd6NotuusLVjOOUTr9V9LrfS6r0dZVJf3/ANFJt0JWCteAN2ihlB3aralweUhbrSsrCwAbktm48FrJFsghWbMoMLx9Upki2VospEEbwlZasWJJSskgsSE7IQtishNCosSE0ILFZFk0IBWTshCgJNtxVoAKpCYcQsSVmS8NCCGhViQpF11jFgmZWt3BVukc5RQtqKQBJNFlsorKE/8AQSfZKsUJ/wCgf9kouzUP1I6/IT8iT/vcn3IS5CfkSf8AfJPuQuUu2fWfZ6ZZcTofCeHTURqZ6YTCxlp3APAvrYkEa7t24rUhQhxn8nInU1PEK+rZJTsdGyaPZsfs3WuywZltoOF9BqgcmKFk8b45J44WGJxpmuGze6MDITpe4sNxF7C67KEBxuVn5uVH2o/4jVycttF1+Vf5u1H2o/4jVyrhYkzx/U9ohlQWmystdBCxkeSisXUgEXCC4K8gSMwASJula6tEHoU7AIGiajKR0uqqzDocRpHU1Q0mN9rgGx0N1oAF9ysBWJO1R005ShJTi6a5Ry8OwChwl730rHNMgAdmcSui1oaDZSJHFQc7SwWYrikb1tbU1pvU1ZOT9fZU65KhlIKsym6lYBejKjz0VEHpUo73sSplpO4IsGplaFE2+KVN8hLbAXVQKmD41yuEo82zafBQ5hdvGqjsitOmqpc650XaM2+DLVFZbZNsL33LW3spHU3VsD9ncnQKylJRtEVXyZ3QubvCRj03rTNOJLADQKm6sZSatldJ8EMikIC4DLvTJudyuhfk1KTnJK0Rd8mfm8l/oo2Eg+qVsdPfdZNsnEhct7U+UdMV6YhBIReyYppDwXRa5p4J5mgblzf1U/Da016YW0TifGOiUtKY9QbhbwQVItY4WIuuf4qadsu0muDjkWSXQkpYzq3RZnwhvFe2GtGfRxlFx7KUKVkrLrZgSLKTWF30QT6EzG4b2kekKZIpBMC6lwsklkI2Vc/9Xk+yVcq6j+ryfZKqfJqH6kdTkJ+RJ/3uT7kJ8hPyLUfvkn3IWJds+w+z0qEIUICFU6pp2NzOnja0OyXLxbN0elSM0TZWxGRgkcLtYXC5HoQHK5V/m7Ufaj/iNXMyBdPlX+btR9uP+I1c6y46jo8n1C5RG2miRBKnZFlyyPNRWGElPZKyyNUzYxRVkRaysuokEnVaUm+yUQspWsmBZCtihILkkWQgiUWunZMBWxRGyLX4KSLpYonfxbWUcgPFLMolyykytoZ0US5DSS3U8Siy6JV2ZZEklAACeiNFogXHAJEEp6IUAgwngnkU23U9AsubKkU5TfQKWVxG5TzBGcKZN/BaREMtwTzWSLrqJPWlN9j+hPaJh/WqroumCGRo2gUTPbrVOpRlU24/Jc2SdUPdu0VTjfVxVlidy59WXbdzSTYW0XfSgm6QjFzdNm2NgkF77k6gMiizAXJNlzxm0tffwW2bWnYLHgtSg1JcmnBRI0tS+LM5jg0kcQrnV8sgMb3Nc0nXRcjMTJY7r2V8VmuuAtz0IN5NcnaUZRVWbC0jekqX1xJJyiyoqKoyMyNFr70UJPs4x0JN0aw5paXA3A6FnqKhpgeADqCs0czocwGrXDUKb2h0DrA3LV0UKZ2WgoS5O/yE1wSf97k+5CfIVpbgtQ0ixFZJ9yFwl2z3Ps9Ks2IMq5KCZlDIyOpcwiN79zT0rShQh8/o8GrqGWU4hhHOKMSVLWQw3lJe9seWQhwF75XjN+0brTDhGIRSwwVFHJLWmSjfHWABwiZGG7QF/Dc8W45/SvboQHn+WDKw4O90M8LKcOj2kboS5zvxjdzswA7Csy6HKy/4OVNt+aP+I1cf8fb63uXOcb+TyfUdov0TWe83Q7sCM83Q72Vjb+55bNCL9az7SXoPso2z+IHYU22LNF+tCz7Z1tw96NuegdqbUhZelZU7cdH/AJI246PeE25Cy6yLdaq2o6CjajoPYmDJZYhQ2jevsS2relMWCy6V1HO3pCMzb7wqkAQi46QhUgm/R9Z/zTSb9Aek/wCadlfkB6UrBOyLIBWAUswCijToUAy8pXRl6CjKehXgnIrouiySoC6E7IsqBITsiyWAumCErJOOVpcdwUqwDnh07G3sBqVnmI5w6TxXiwv6VQ+oJJeDa+5Qa12YkXIPUvTHTrk9MYNLk10881yWNB6rK6WpmyWLGdg+KxR2AJL2tPWh0gAsCHehR6UXK6I4u6RS2J8k1wPrE6laDG5hIdbTrVLJnMcXWHapPqC7eNT1rq8r+x2mptlLyWusR6lBwdvLSL7lbtCDpa56knO4k3K2dotr4Ky0lW5zawtuslcDiotItc7ygfPZ6bkSScJqSd/PJPuQjkT+San98k+5C8cu2bXR6NCEKFBCEIDj8q/zdqPtx/xGrnLo8q/zdqPtR/xGrl5lx1FZ5PqHyiaFDMjMueLPNZNCrzgm19yeZMWSySLDoUcyQcrTFkso6AkWN8kdiMyWZWmLAsZ5I7FExs8kJ5lXUPAgeepbipN0TtlbnU8mZmlwLgk6Eqkwi4tk1O7MFjJivezlZC+I1LS0OBLh6l7FBxXDPXtUuLND4Msrh4hAOnjDpT5vZzRdhvv8YaKuqfG6rlBzXzn/ADVbhoCzj0uASOTinZHF/JcIDlJuL33ZgpCncS4aCw08YLOyNztTa/UVqpWeJMb/AKM/5hSbaV2R0n2QbA82G6/7QQYZADv3j6yjFFHrnc8AdDQfvTfDHlu2Rx9Lbfelu6v9havskYZAeJ04O6khFLkuMx1Itf0JCFpNg49ilLHama0HXM61x6EvpX+xm0/kNjNqfG060CKckC0mvWs1pL2sO1TdEQLsdmF7HgtU/TWNfJaY57bpfens6gcJTpfS6oDH7zYdV1fVxvFScoFjayy+0hS9Ax1It/S6+lPJU2JtLYelZnNkBFxr6U/xvQe1axfqLiq7LwJy9rbyi/TdXiKQkAulAJ33Wakz84F2n1qbKtn1o5N2pD7arlNSukYcW3waLhkoiDiSTvd0LPUVT2ODYx2piSHPnyS5uB2n8kZIHNzmKYtGl8w+CkVTuS/0RRinbJNq2ZAXfS4gKqaqzsLWiwI1upWpT9SX2ggMpHHKBOT0CxWlindMqjG7MhHC27RMudqb24LSW0XF0wPq+KMlD5cvXoPit7i8f+DraMtvGNzuUT9HfqVu2VGN8kov0sUDBTO0FS9o/wCWrux8f+GaUjIRqOhBHjDetfNYSf667T/4kjSRX/r3bEU3Y/f/AA//AEayXplykEG3Uk5ptfo1Ws0bT/vsfsFBogRbnsPYU3Y/xMZL0y5bg670supF9y18xuNK2DtPwRzB2v8AtUBv+0m9D0Zfc7XIkWwmp/fJPuQpcjWGPDKphLXEVkmrTccELg3bs6ro9CsGN4rFguEzYhK0vbGWtDRxc5wa0drgt6zYhQQ4nRSUlRmyPsbtNi0gggjrBAPqUKcZnKWoqIoY6Skhmq5Nq58ZlexsbY8t7lzA7NdzdC3ilHysM+Sohor0QMDZpXSWex0trWbbUDM2+o3rSeTFMWAtrKxlRne99S17RI/OAHA+LaxDW7gLZRZMcmKBs0bo3zxws2RdTteNnIY/oF1xe4sNxF7C90Bn5ZV9NBgstNJKGzSmMsbY6/jGrk7V3Su7yu/Nqq9Mf+tq89dbikzx/UrlFm2d0oExvxPoUNVFzrEDpWsUeVLktbK0N8Um9gdyNselUZrFh6dFYrgiyjRY2Ylwu6yb6okaDdpuVSBZZwjd0Toi+tk20QaMuZ4BFlHGqp8VTsorsAJ3aKupdkkgdYmzwdFHGDt6oSRglp1RQW4mlxTPdoqDxtEoZHbCMukcS89KhNLNFUbEuLRluQeKzwOc9mTQBozDp6FZK0PGcvdnAte3Bdq5N7aU3ZZDsiHOLLgFXQGASkgZLa8Vngs2Npc6+bXr3pNfdzj0tv7yjVmZRbbo2TPDnOly3dmvbLoQqJhFI3PkFwAALKIllvYFvpvwV0dM6qcxmdrLnXrWaUFb+Dmli1ZZh1IZpSWtsxu/oJW18lM+nlbCwMkDMuVotxXQhpthSkM0cG++y4cMuzheHStdIW2v13Xz46n4mbkuk1RqacUm/koa9jW5cpNyAbqx1Qxji2NhDLb9VS+QvcGEMzE3BHVqnnZcGxJtqvo432YcPUXsqmmTabV4uNQD6VF7xUi4eXAOJu47lkeMrCGggb+CpbG50bTwNyNU24p2jqtJNWnRucAwsjLgLnTcntXUt9m5hBtwB/zXPAMdQwWIsCdVoiMZlhc4eMbalVx45D08ebstnzkBxIGvUtz5JRUllmBpO8sBspVlbT1EYZGwg3vqAFzq1olkkewX1ve688b1Eso12c0k3iW1bXTOI0cWuLbtba6qdHfKMliwWsVJoDtnJGBcajr1RK6SRzpHNF3HXKu0eKQTriwhcWVEbHNsNbW9CgRoR71EyuFUx1iN+hC1udeRpubW1ANlenYk3Gihga07R+jQe09CZqHOu/QC+g4W10Vckk0cri0Es9ASpqiRrgSCWuG+19bq1fJrFuORr5uDStlY3xnAg23bwswfkc2NhuD9J3T/ACWuKrtTCNh8YE5hbgjanyWeyFyjnzaOedWmYyNuNw2jTc/tj4qTmiKR73MaSXEtaePWVp2m45WXG45Ah8rnuLnNjLjxLFq5ecGt1GZ7zL4shs1zRZx+qfgq2Ur2gNJAyuJLjwGi1l5I1jid6W/zRtX5MmziLb3tY/FLa6RVqUqRQZHMY5sdsotcH63TdRbHZ+dhJY4OtruNtxVxcQTaCHXf9L4ojmfC8ubTxXO/xjqrbrhFUu6Khmhyud/SncL6N/moztkqHHK4slaTcA6OHSrHSAm5pQTvvtD8FF0zS7MaR4de9xL/ACTnuv8ARte/Imse6wLnNYGi7r9Sk6YOiyG7G3s1w1I6z0pyVjJGtD6OQAcGOFj17lUamlAyup5wL6ahS2+0FBurR6TkS17cJqWv1cKyS/uQjkQ5jsIqTGHBprJLB2/ghcX2dj0aEIUAIQhAcXlb+bVT9qP+I1cGy7/K382qn7Uf8Rq4C1E8X1XaCwVMhG0FgdAVdcKDhc30XSJ5oOmU38SPR177losoge5TBVkzU5WLKjKE0FZOZHKMwKhKzMVZfqSJvwWk2bi2nZUIWjgFLZt6Ap2RZWzTm38lElo2EhmY9ACxtlYGZtc+7IQukdypc3OfGAK0md9LUSXJkZUZjYtHoXTpI5HluWMBoN8zhuWU08biHFuo3EK1u1cQ0l3Vqsz5VIupOElwd6WvhihIEgc4DQdJXCDWZTcDsStY2TC8+h9NHQTxfZjU1JT7IFjbiwCWzb0BWcUepemzOTK9k3oS2bQLDcrbJWVsqmznTaVLrcGK6nja9jC4XLVe5njXspMFgrfB6Jav5EkIwx+Tb1pOgZqLaFXD0pFZtnmU5elTYmtAAFgE8g6FNCtlzZVsWl4cRqFMsbf+amAnZSyObKjE1wIN7elJtO1rQBcW61eAnbqUyM7surIMiaxptx3p2U7G25L1KWYybdkMqRYrLBIhWyqTIZEZFNCWXJkNmgMCnZCWMmV7MXSMQVqEtlzZUYm9faomFp//AFXFRNlbZpTl6dzkUA3CqkDcKyT7kJ8jPyXVfvkn3IXnfZ749I9ChC5HKlksvJ2qZCyRz3ZBaMEm2dtzYakWuSBvFwoU66F4CnpS2miFfRzy4c2Wpysip5GtLyGbNzY9XNb/AEgF9x1vqFZFS14mgFZBUvxXNR83myuIYwZdqC7cPr5gd9xv0QHoeVxtyZqja+sf+tq87tXfqyu3yyZWHBZXRVELKcGPaRvhLnO/GN3OzADsK5GYX+kFuJ4/qWrXBVtXfqndiDL0sd2K4njmCWg3Laa8PNcfCnbAfUd2J84/Zd2KwC53KWToRtC4+FPOB5LuxG3Hku7FdkJP8kFjrbr+pTKJbj4UGob5LuxG2b0O7Fdl/ZPoRs3W49itoZR8KNu3yXdiNu3od2K4tI+qfWgg3+j7lbRbj4UbdpG53Yo7VvQVoLXW3FRd4ts2npWk0aUo+FQmYVMTx2AJII3EC6jHCI3uIGjrFWZer3KOiycL4IGZjjcuJ9SNqzp9ynl6kZR0JwZuJDas8r3I2rPK9ynbqRYdCvAuJHaM6fcjOzyvcpZR0BKzegKcD8pAlh+uFIFnlhGUdATyjyQqW0F2eUEZmeWEWHR7kiB0KGeB+L5Q7UaeUEZR0BGVvQEHAXb5be1Nrml2XM29r70i1tr2WeOFxkYS+41J9HQhqMYtO2a7ftt7Qnb9odqhs233I2TehZMflLA0/wDpT2blUYxbd7ktm3oSvuSkWljrbilkf5J7FXs29KNmODj2pX3LS9Ldm/yD2JZHeSexViM+U7tQGu8t3alP0UvSzI7yT2IyO6D2KHj/AKx3ajNIP0r+1KYpejsehFj0FLPL+td2ozy/rXdqvJa+4EHoKiQbqW0m/WuS2836wq/mNJHc5F/kuq/fJPuQjka4uwyqLjcmsk+5C4Ps98ekehQhChoEIQgOLyu/Nqp+1H/EavPhjb62PqXoOV5I5M1RbvBjt7bV5c1VcOjtW4pvo82tByapmnK3yQPUllb5PuVAq646WB9afO6/oHat4y/jOGzL39y8Nb5I7EEMA1HuWc1mI5r3bboRz2t8kJjP+P8A+F2X7+5f4p3NHYiwO5qo59WDfGPd8Ec+qx+ib2D4JjP+MbMvf3LrDiAnYbsqzGrrXfRjYPS0Jisq7C8DT/0hWpDZl7+5fYDgErDgqee1O/m49kI5/UH/AHZvshKkNmf8ZdZvWVB8bH/SaDbpUDXz2/qzfZCpfVylwD49mSfqqpS+TcdGd8f7N8rMojPAtVdvT2pSVkoOTYtflGmirFbKD49M31BZipVyjC05VwW7uJ7U/We0qnn7/wC7DsRz9392HYrUvC7Uy71ntKPWe0qrn5/uo9lLwg8HWjbl6bFPzeDZmXet3aUa+Ue1VDEBxpfd/NBxFv8Adfcfin5vBs6nhbd3lFF3eUVVz9n92Pv+Ki7EBwpb9qU/CbOp4X3d5Z9yCX8HH3KkV0dtac+9HPov1LvelPwbU/C67/K9wRd3SPZCqFfBxid70GupfIePR/8Aic+Da1P+pKRrpLfjHNt5IsiIZSwb7MO/iqufQuvlLgeAcFZA8F0Zf4os4G3BX4NOM1Gmv5Rbmtva33/FPMPJb2lI1FC3Tbn2U9rRn9P7lzv7P9zm4T8HcE/QHaU72+oPaURJT30mHYjNDwlafUr/AD5MVLwMw3Fn/l/JO7T+j/8AL+SLxH9K3sRaK1zM0em6cfyxT8ET+wfa/kjMOLD7SbWxvF2zxn1lPZg/pY+1LX8sV9iOZvku7QldvQ7tCns7/pGe0jZHyme0EuIIeJf63uR4n7XYPip7J37PtBLYOPk+0EyXpSFmdLvZHxSJZ0u9lW83k6G+0EubSdA7QrnH0p2ORlvBlVbdzyT7kJ8jmluHVYIsRWSfchcn2fQj+lHoEIXBl5QVVOcQjlo49rTTwwwtbKSJDKQG3NtN+u9Q0d5C84OUtZK80kFBE6ui2xmY6YhgEeW9nW1JzttoOKIuVTqiSOaGkBoTJBFJK6Sz2ulDS2zbagZ2g68epAaeV35tVXpj/wBbV54k23Ltcs66jhwOWllqoY55THs4nSAOf+MbuG8rikG1te1dIHk+o7QDNa/3Ja+V7lIEAWsb9SAXW3FbPLZEA8SexFtePYmM195Ts6++3qSy2RLRfenYWubI47ygm265QlsHegWSB6whxdxJ7ErnhdVFS4GbdSiN/BMORf8A9shUFrHUhZKzWaEab+HqWrQneOxZam3OYQOn71pHfR/WaZRlqfUP8lJFQP8AarJWCyv0oxL4AhMJWTtpvVMACgehHBA3XsgC2u4pEC+5GhQRqgQyOpBAsiyLelAAA427EWb0DsQB1lGoChBBoJ3e5MAX3DsSvY7076/SQrsyV9s0ZtrdWN/R/wDUq6+947+UrBuj/wCpb+D1f8Uf7/8AkshYy1yxh9LU3wQudfZsHoCUJ8T1qz0XKy+zzylJSfJSaWE/Ub2J8zgtrGFYRpvTyaXupY3JelJo4LX2Y7UCjpz9T3q3UDimN6WxuT9KTRwcGEespGkiHB3aVfxQQeAKWwtWfpTzWL9r2ijmsQ+s72iriRb6yDu3lLY3J+lIpmeU72ik6kiJ1e/2irgesoB6/cryNyfpVzdg/TSe0kacW0nk7VcSBxHspFw6vZTkucvTucim5cKqW5i61ZJqfUhPkb+TKr98k+5C877PbHpHoVxZOTME09ZLNX1knPHMe5pcwBjmEFhbZoILbC1yeu67SFDRxXcl6QxNDamrjmvIX1DJAJJA+2cONrWNhuAtYWspjk1QNqo5ozNHGx0bubtf+Lc6MWY4i17iw48BfcuuhAcXleL8mqrpvH/ravOBruLvevR8rg88mqkRsMjy6PKwWu47Rumui88aTGj/AGBWd7B8xbg6PNrRk2qQ2iw3Ja23FHNMatb8H6vvoPmJc0xv/D9X3sHzFu16efan4MD0pa34lHM8a/w/Wd7B8xHMsaP9gVnfQfMS0Xan4IuN9/vSJ6f81WYsUZWR0rsDrBLIx0jW7WDVrS0E32nS4dquNFjPDk/Wd7B8xXKJduXhE36UwHFBosa8wVvfQfMRzLG/MFZ30HzEyRduXgg3rPYmBbeU+ZY1b8gVnfQfMS5jjXmGs72D5iZL0bc/AzC++yyT61kPp+9XU0eKVcImgwOscwktvtIBqCQd8nSCk7DMcNSyQYDV5W7/AMdB8xVSidNKDTuvguqDarPpSzFSlo8afUOeMArMpJ/SwfMS5ljfmCr72D5ikZLFGXpy44I5imnzLG/MFX3sHzFVUMxWkiEk2BVbWl7IwdpAfGc4NaNJOJIVyRnbl4WJX9CnzLGvMFZ3sHzEczxvzBWd7B8xMkMJeEblLjwU+ZY35grO9g+YlzLGvMFZ3sHzEyQwl4Kw6AjhuUuZY1/h+s72D5iqazFX1UlK3AqszRsbI5u0h0a4uAN9p0td2KZIm3LwsAKAmKPGvMFX3sHzEczxrzBWd7B8xMkNufgrkFK9+JUuZ41/h+s76D5ifM8a8wVnfQfMTJDbl4Ya7fH6Vc39H6HIqcMx2XLlwGr0PGWD5iVJDi1XTxTwYHVvjcDZ20gF+HGRayVdnoae2l/UnCfF9atzcb+5QZQY20WOAVfewfMUuZY1/h+r72D5ijlE4z05N3QyQdyNLalLmeODdgFWP/tg+YmKTG+OAVfewfMUtemdqXgcOCQ9Xaq5mYpTuhZLgVY1079nH+MhOZ1ibf0nQCrRR40P+H6vvYPmJkhty8FbXd70iLnd71PmmNXv+D9Z3sHzEjR40f8Ah+r72D5iZIYT8Ag23IIIG8oNHjR/4fq+9g+YnzPGrfm/V97B8xTJE25+CBd19qBe51cqmMxR9VLTNwKsMsTWve3awaB17fpP2T2K7mmNeYK3voPmJaG3PwiTbi5B3fSd2Jmixon8gVvfQfMQaPGvMNb30HzFcka25eHb5G/kyq/fJPuQreSlJV0eGTNrKZ9NJJUvkEb3NcbG1vokj3oXF9nsj0juIQhQ0CEIQHOxfEIKUQ08lJLWSTklkEQaSQ3xi7xiBYacd9lqo6uGvo4auBxdFMwPYSLGxWXFMMmrJqeppaoU1TT52te6LaNLXCxBFx0A7+C0YdRR4bh1PRROLmQRhgc7ebDeUBpQhCAFz8QxcYbNGJaOodC9zGmdgaWNLnZQDc33kbgd66C5OIYTW1uLU1U2uhbTU9nCmlpy8F9/p3DxrbQXBtvQFEXKPDp6+tzQOY7DWytkle+MkNaRms0OLrGw3gXstuG4vHiT5YjTT0s0TWvMU4aHFrr5XCxIsbEeorHWcnX4nVOfXVbHQiOWONkMGRwEgsczrnNYdQWnC8Kmoqiaqq6sVVRLGyLO2LZhrGXsLXOt3OJPXwQHTQhCAFwIOV9HPBUSsppvxEgiDA+Jz3vL8gAaHki58q2i7689V8mZ6+pFVUYhGJ4QObOipsgYQ9rwXDMc2rAOG89KAkzlJRwU7WU+H1RkBlMlNGxueIMIzk+Nbe4bib30XbgnjqaeOeF2aOVoex3SCLhcH8GKhl54cTEdZKJhPMYLteJC0mzc3ikZW21O7W67lJTR0VHDSxX2cMbY236ALBAXIQhAVVMr4IHSR08lQ4bo4y0OPtED3rz45XUNZJTU8uHTtNRIcjZnwtF2SBtxd+vjC4tc6L0FSyWWmljgl2MrmEMkLc2Q20NuNlyKrk46XCYsJp6qOGibAIZA6DPI4cSHZhlJ6bHXVAXs5QU78UFCIJwHTOgbUEDZuka0uLd972B4W0XVXEi5POjxRlRzy9LHUuqmU+z1EjmlpJffUeMTa287120AJJoQHG/CSERz5qKqbNDUtphAQzPI9zQ4W8a1srgdSOKok5UYfCDVNoal8uyeakMY3PCyJxDs+vAl26/Gyj+Dle6qqqmTFITLLVMqoi2kI2b2sDLG7zmBa2x3b96hJySkML2xYkY5amOWOrk2IO1Eji52UX8U3JtvsDxQG9vKGldiIpGwzlhm2AqQBsjJlzZd993G1r6XXWXDZyc2eINkZV2o21IqhTbPUSZcv07/AEeNrb+K7iAFlxGt8HUE1YaeWoELS5zIrZiBv3kD3rUsmKUs1dhtRSQTsgfMws2j484aDodLjh1oDNUY7HTR08z6KpNPOIzt2huVhebAEZr3uRuB3rNSco8OEtbSxwOgiw7abQl8egYdSGBxdbrICgMAxMy4eZcVppYaJjQIXUbsrnj6/wDSb7WAvex1VtZyefiVU6Stq2OhEcscbIYMjgJBY5nZjm06ggNeGYvHiT5Y+bT00sTWPdHOAHZXA5XaEixsewroLmYVhU1DPNU1VWKqeVkcWZsWzAYy9ha51u4knr4LpoAWCXFWQ4vHhz6acGWF8rJrNyENtcb738YcFvXKrcLrajHKTEIa6GKKmjezYupi8uz5c3jZxb6Itp2oDHT8qMPxHDfCPNJXNikYIo80T5HSP8VoAa85Trbxrb1a7lTTiMZKKsknG02lOxrc8QjtmJ8a3Ebib30Vb+TM8756ior4zVv2OykhpsjGGJ5e0luY5tSb67t1lH8GKhl54cTEdZLtRNMae7XiS17NzeLbK22p3a3QHegnjqaeOohdmjlYHscOIIuFYqaSmjoqOGlivs4I2xtvvsBYK5AI6C+9cuDG3VNPUSQ4bVukpp9jJCTGHA2Bvq61rEcbrqLhR4DX82xWGbFIj4RcXZoqYsMd2hp+ub6Dq1QFUXKugdNRSNoJo5cSiD2GR8TDlDrC5Lxf6VwBfQrczlBTvxQUIgnsZnQNqC0bN0gbmLd972B4W0KjimCSYhRDD4aiKnozEIns5vmflHkuzDLp1FQj5POjxRtRzy9KypdVNp9nqJHNLT499RqTa2870B2kIQgBCEIAQhCAEIQgBCEIAQhCAEIQgBCEIAQhCAEIQgBCEIAQhCAEIQgBCEIAQhCAEIQgBCEIAQhCAEIQgBCEIAQhCAEIQgBCEIAQhCAEIQgBCEIAQhCA/9k=)\n",
    "\n",
    "\n"
   ]
  },
  {
   "cell_type": "markdown",
   "metadata": {
    "execution": {}
   },
   "source": [
    "At first, we are going to load the prepared data and visualize the signal!"
   ]
  },
  {
   "cell_type": "code",
   "execution_count": null,
   "metadata": {
    "execution": {}
   },
   "outputs": [],
   "source": [
    "#make sure you've downloaded these files in `Data retrieval` cell\n",
    "\n",
    "sig = np.load('sig.npy')\n",
    "plot_signal(sig)"
   ]
  },
  {
   "cell_type": "markdown",
   "metadata": {
    "execution": {}
   },
   "source": [
    "### Coding Exercise 1A: Sparsify a natural signal"
   ]
  },
  {
   "cell_type": "markdown",
   "metadata": {
    "execution": {}
   },
   "source": [
    "Write a function called \"**ReLU**\" that receives 2 inputs:\n",
    "\n",
    "1) $x$ - a 1-d numpy array of $p$ floats.\n",
    "\n",
    "2) $\\theta$ - a scalar.\n",
    "\n",
    "The function should return a numpy array called `thres_x` such that:\n",
    "\n",
    "$$\n",
    "\\text{thres-x}_j =\n",
    "\\begin{cases}\n",
    "x_j - \\theta & \\text{if } x_j \\geq \\theta \\\\\n",
    "0 & \\text{otherwise}\n",
    "\\end{cases}\n",
    "$$\n",
    "for every element $j\\in [1,J]$."
   ]
  },
  {
   "cell_type": "markdown",
   "metadata": {
    "execution": {}
   },
   "source": [
    "Apply the ReLU  function to the signal \"**sig**\" with a threshold of $\\theta =  150$."
   ]
  },
  {
   "cell_type": "markdown",
   "metadata": {
    "colab_type": "text",
    "execution": {}
   },
   "source": [
    "```python\n",
    "def ReLU(x, theta = 0):\n",
    "    \"\"\"\n",
    "    Calculates ReLU function for the given level of theta.\n",
    "\n",
    "    Inputs:\n",
    "    - x (np.ndarray): input data.\n",
    "    - theta (float, default = 0): threshold parameter.\n",
    "\n",
    "    Outputs:\n",
    "    - thres_x (np.ndarray): filtered values.\n",
    "    \"\"\"\n",
    "    ###################################################################\n",
    "    ## Fill out the following then remove\n",
    "    raise NotImplementedError(\"Student exercise: complete `thres_x` array calculation as defined.\")\n",
    "    ###################################################################\n",
    "\n",
    "    thres_x = ...\n",
    "\n",
    "    return thres_x\n",
    "\n",
    "plot_relu_signal(sig, theta = 150)\n",
    "\n",
    "```"
   ]
  },
  {
   "cell_type": "code",
   "execution_count": null,
   "metadata": {
    "execution": {}
   },
   "outputs": [],
   "source": [
    "#to_remove solution\n",
    "def ReLU(x, theta = 0):\n",
    "    \"\"\"\n",
    "    Calculates ReLU function for the given level of theta.\n",
    "\n",
    "    Inputs:\n",
    "    - x (np.ndarray): input data.\n",
    "    - theta (float, default = 0): threshold parameter.\n",
    "\n",
    "    Outputs:\n",
    "    - thres_x (np.ndarray): filtered values.\n",
    "    \"\"\"\n",
    "\n",
    "    thres_x = np.maximum(x - theta, 0)\n",
    "\n",
    "    return thres_x\n",
    "\n",
    "plot_relu_signal(sig, theta = 150)"
   ]
  },
  {
   "cell_type": "markdown",
   "metadata": {
    "execution": {}
   },
   "source": [
    "Finally, let's calculate kurtosis value for the signal and its version passed through the ReLU function."
   ]
  },
  {
   "cell_type": "code",
   "execution_count": null,
   "metadata": {
    "execution": {}
   },
   "outputs": [],
   "source": [
    "plot_kurtosis(sig, theta_values = np.array([150]))"
   ]
  },
  {
   "cell_type": "markdown",
   "metadata": {
    "execution": {}
   },
   "source": [
    "### Coding Exercise 1B: Effect of increasing thresholding"
   ]
  },
  {
   "cell_type": "markdown",
   "metadata": {
    "execution": {}
   },
   "source": [
    "Gradually increase the thresholding ($\\theta$) from 0 to 250 in intervals of 20 and plot the result for each value."
   ]
  },
  {
   "cell_type": "markdown",
   "metadata": {
    "colab_type": "text",
    "execution": {}
   },
   "source": [
    "```python\n",
    "###################################################################\n",
    "## Fill out the following then remove\n",
    "raise NotImplementedError(\"Student exercise: complete calculation of theta values.\")\n",
    "###################################################################\n",
    "\n",
    "step = ...\n",
    "theta_values = ...\n",
    "\n",
    "plot_relu_signals(sig ,theta_values)\n",
    "\n",
    "```"
   ]
  },
  {
   "cell_type": "code",
   "execution_count": null,
   "metadata": {
    "execution": {}
   },
   "outputs": [],
   "source": [
    "#to_remove solution\n",
    "\n",
    "step = 20\n",
    "theta_values = np.arange(0, 250, step)\n",
    "\n",
    "plot_relu_signals(sig ,theta_values)"
   ]
  },
  {
   "cell_type": "code",
   "execution_count": null,
   "metadata": {
    "execution": {},
    "executionInfo": {
     "elapsed": 1716,
     "status": "ok",
     "timestamp": 1712746044991,
     "user": {
      "displayName": "Noga Mudrik",
      "userId": "02231196708671115202"
     },
     "user_tz": 240
    }
   },
   "outputs": [],
   "source": [
    "plot_kurtosis(sig, theta_values)"
   ]
  },
  {
   "cell_type": "markdown",
   "metadata": {
    "execution": {}
   },
   "source": [
    "# Section 2: Sparsity in space\n",
    "\n",
    "Estimated timing to here from start of tutorial: 20 minutes."
   ]
  },
  {
   "cell_type": "markdown",
   "metadata": {
    "execution": {}
   },
   "source": [
    "So far, we focused on temporal sparsity. Now, we will define a ``hard_thresholding\" operator. Specifically, we will focus on a single frame of the video (the 1st frame) and apply hard thresholding to it to explore the effect."
   ]
  },
  {
   "cell_type": "markdown",
   "metadata": {},
   "source": [
    "##  Video 2: Sparsity in space\n"
   ]
  },
  {
   "cell_type": "code",
   "execution_count": null,
   "metadata": {
    "cellView": "form",
    "execution": {},
    "tags": [
     "remove-input"
    ]
   },
   "outputs": [],
   "source": [
    "# @title Video 2: Sparsity in space\n",
    "\n",
    "from ipywidgets import widgets\n",
    "from IPython.display import YouTubeVideo\n",
    "from IPython.display import IFrame\n",
    "from IPython.display import display\n",
    "\n",
    "\n",
    "class PlayVideo(IFrame):\n",
    "  def __init__(self, id, source, page=1, width=400, height=300, **kwargs):\n",
    "    self.id = id\n",
    "    if source == 'Bilibili':\n",
    "      src = f'https://player.bilibili.com/player.html?bvid={id}&page={page}'\n",
    "    elif source == 'Osf':\n",
    "      src = f'https://mfr.ca-1.osf.io/render?url=https://osf.io/download/{id}/?direct%26mode=render'\n",
    "    super(PlayVideo, self).__init__(src, width, height, **kwargs)\n",
    "\n",
    "\n",
    "def display_videos(video_ids, W=400, H=300, fs=1):\n",
    "  tab_contents = []\n",
    "  for i, video_id in enumerate(video_ids):\n",
    "    out = widgets.Output()\n",
    "    with out:\n",
    "      if video_ids[i][0] == 'Youtube':\n",
    "        video = YouTubeVideo(id=video_ids[i][1], width=W,\n",
    "                             height=H, fs=fs, rel=0)\n",
    "        print(f'Video available at https://youtube.com/watch?v={video.id}')\n",
    "      else:\n",
    "        video = PlayVideo(id=video_ids[i][1], source=video_ids[i][0], width=W,\n",
    "                          height=H, fs=fs, autoplay=False)\n",
    "        if video_ids[i][0] == 'Bilibili':\n",
    "          print(f'Video available at https://www.bilibili.com/video/{video.id}')\n",
    "        elif video_ids[i][0] == 'Osf':\n",
    "          print(f'Video available at https://osf.io/{video.id}')\n",
    "      display(video)\n",
    "    tab_contents.append(out)\n",
    "  return tab_contents\n",
    "\n",
    "\n",
    "video_ids = [('Youtube', 'ylKP9s8qqYY')]\n",
    "tab_contents = display_videos(video_ids, W=730, H=410)\n",
    "tabs = widgets.Tab()\n",
    "tabs.children = tab_contents\n",
    "for i in range(len(tab_contents)):\n",
    "  tabs.set_title(i, video_ids[i][0])\n",
    "display(tabs)"
   ]
  },
  {
   "cell_type": "markdown",
   "metadata": {
    "execution": {}
   },
   "source": [
    "## Coding Excercise 2"
   ]
  },
  {
   "cell_type": "markdown",
   "metadata": {
    "execution": {}
   },
   "source": [
    "At first, let us load the signal we are going to use and observe it as image."
   ]
  },
  {
   "cell_type": "code",
   "execution_count": null,
   "metadata": {
    "execution": {}
   },
   "outputs": [],
   "source": [
    "#make sure you've downloaded these files in `Data retrieval` cell\n",
    "\n",
    "frame = np.load('frame1.npy')\n",
    "plot_images([frame])"
   ]
  },
  {
   "cell_type": "markdown",
   "metadata": {
    "execution": {}
   },
   "source": [
    "### Coding Exercise 2A: Applying Hard Thresholding"
   ]
  },
  {
   "cell_type": "markdown",
   "metadata": {
    "execution": {}
   },
   "source": [
    "So far, we focused on applying ReLU, which can also be considered as a form of **'soft thresholding'**. Now, we will apply a different kind of thresholding, called **hard thresholding**.\n",
    "\n",
    "Here, you will have to write a function called **hard_thres** that receives 2 inputs:\n",
    "\n",
    "1) frame - 2d array as input of $p \\times p$ floats.\n",
    "\n",
    "2) theta - threshold scalar values.\n",
    "\n",
    "The function has to return a 2d array called **frame_HT** with the same dimensions as of **frame**, however, all values smaller than $\\theta$ need to be set to 0, i.e.:\n",
    " $$\n",
    "\\text{frame-HT}_{[i,j]} =\n",
    "\\begin{cases}\n",
    "frame_{[i,j]} & \\text{if } frame_{[i,j]} \\geq \\theta \\\\\n",
    "0 & \\text{otherwise}\n",
    "\\end{cases}\n",
    "$$\n",
    "for every pixel [i,j] in frame."
   ]
  },
  {
   "cell_type": "markdown",
   "metadata": {
    "colab_type": "text",
    "execution": {}
   },
   "source": [
    "```python\n",
    "def hard_thres(frame, theta):\n",
    "    \"\"\"\n",
    "    Return hard thresholded array of values based on the parameter value theta.\n",
    "\n",
    "    Inputs:\n",
    "    - frame (np.array): 2D signal.\n",
    "    - theta (float, default = 0): threshold parameter.\n",
    "    \"\"\"\n",
    "    ###################################################################\n",
    "    ## Fill out the following then remove\n",
    "    raise NotImplementedError(\"Student exercise: complete `frame_HT` array calculation as defined.\")\n",
    "    ###################################################################\n",
    "    frame_HT = ...\n",
    "    frame_HT[...] = ...\n",
    "    return frame_HT\n",
    "\n",
    "frame_HT = hard_thres(frame, 150)\n",
    "plot_images([frame, frame_HT])\n",
    "\n",
    "```"
   ]
  },
  {
   "cell_type": "code",
   "execution_count": null,
   "metadata": {
    "execution": {}
   },
   "outputs": [],
   "source": [
    "#to_remove solution\n",
    "def hard_thres(frame, theta):\n",
    "    \"\"\"\n",
    "    Return hard thresholded array of values based on the parameter value theta.\n",
    "\n",
    "    Inputs:\n",
    "    - frame (np.array): 2D signal.\n",
    "    - theta (float, default = 0): threshold parameter.\n",
    "    \"\"\"\n",
    "    frame_HT = frame.copy()\n",
    "    frame_HT[frame_HT < theta] = 0\n",
    "    return frame_HT\n",
    "\n",
    "frame_HT = hard_thres(frame, 150)\n",
    "plot_images([frame, frame_HT])"
   ]
  },
  {
   "cell_type": "markdown",
   "metadata": {
    "execution": {}
   },
   "source": [
    "Notice how many pixels became of the same violet color - those are the thresholded ones."
   ]
  },
  {
   "cell_type": "markdown",
   "metadata": {
    "execution": {}
   },
   "source": [
    "### Coding Exercise 2B: Percentile Threshold\n",
    "\n",
    "Define the variable **frame_HT** as the first frame after the hard threshold operator, using the above **hard_thres** function with threshold of 80% of the frame values."
   ]
  },
  {
   "cell_type": "markdown",
   "metadata": {
    "colab_type": "text",
    "execution": {}
   },
   "source": [
    "```python\n",
    "###################################################################\n",
    "## Fill out the following then remove\n",
    "raise NotImplementedError(\"Student exercise: complete search of the pixel value which corresponds to 80-percentile and calculate thresholded version of the image.\")\n",
    "###################################################################\n",
    "low_perc = np.percentile(..., ...)\n",
    "frame_HT = hard_thres(..., ...)\n",
    "plot_images([frame, frame_HT])\n",
    "\n",
    "```"
   ]
  },
  {
   "cell_type": "code",
   "execution_count": null,
   "metadata": {
    "execution": {}
   },
   "outputs": [],
   "source": [
    "#to_remove solution\n",
    "low_perc = np.percentile(frame, 80)\n",
    "frame_HT = hard_thres(frame, low_perc)\n",
    "plot_images([frame, frame_HT])"
   ]
  },
  {
   "cell_type": "markdown",
   "metadata": {
    "execution": {}
   },
   "source": [
    "### Coding Execrcise 2C: Explore the effect of hard thresholding using the values histogram"
   ]
  },
  {
   "cell_type": "markdown",
   "metadata": {
    "execution": {}
   },
   "source": [
    "We will now explore the differences before and after applying hard thresholding, using the histogram. Generate a histogram for the frame_HT. It might take a while as image is of high quality and it contains a lot of pixels."
   ]
  },
  {
   "cell_type": "markdown",
   "metadata": {
    "colab_type": "text",
    "execution": {}
   },
   "source": [
    "```python\n",
    "###################################################################\n",
    "## Fill out the following then remove\n",
    "raise NotImplementedError(\"Student exercise: complete histogram plot.\")\n",
    "###################################################################\n",
    "\n",
    "with plt.xkcd():\n",
    "    fig, axs = plt.subplots(1,2,figsize = (15,5), sharey = True)\n",
    "    axs[0].hist(frame.flatten(), bins = 100);\n",
    "    axs[1].hist(..., bins = 100);\n",
    "\n",
    "    #utils\n",
    "    [ax.set_yscale('log') for ax in axs]\n",
    "    [remove_edges(ax) for ax in axs]\n",
    "    [add_labels(ax, ylabel = 'Count', xlabel = 'Value') for ax in axs]\n",
    "    [ax.set_title(title) for title, ax in zip(['Before Thresholding', 'After Thresholding'], axs)]\n",
    "\n",
    "```"
   ]
  },
  {
   "cell_type": "code",
   "execution_count": null,
   "metadata": {
    "execution": {},
    "executionInfo": {
     "elapsed": 1534,
     "status": "ok",
     "timestamp": 1712746179331,
     "user": {
      "displayName": "Noga Mudrik",
      "userId": "02231196708671115202"
     },
     "user_tz": 240
    }
   },
   "outputs": [],
   "source": [
    "#to_remove solution\n",
    "with plt.xkcd():\n",
    "    fig, axs = plt.subplots(1,2,figsize = (15,5), sharey = True)\n",
    "    axs[0].hist(frame.flatten(), bins = 100);\n",
    "    axs[1].hist(frame_HT.flatten(), bins = 100);\n",
    "\n",
    "    #utils\n",
    "    [ax.set_yscale('log') for ax in axs]\n",
    "    [remove_edges(ax) for ax in axs]\n",
    "    [add_labels(ax, ylabel = 'Count', xlabel = 'Value') for ax in axs]\n",
    "    [ax.set_title(title) for title, ax in zip(['Before Thresholding', 'After Thresholding'], axs)]"
   ]
  },
  {
   "cell_type": "markdown",
   "metadata": {
    "execution": {}
   },
   "source": [
    "Let us also take a look at the kurtosis."
   ]
  },
  {
   "cell_type": "code",
   "execution_count": null,
   "metadata": {
    "execution": {},
    "executionInfo": {
     "elapsed": 975,
     "status": "ok",
     "timestamp": 1712746207553,
     "user": {
      "displayName": "Noga Mudrik",
      "userId": "02231196708671115202"
     },
     "user_tz": 240
    }
   },
   "outputs": [],
   "source": [
    "plot_labeled_kurtosis(frame, frame_HT)"
   ]
  },
  {
   "cell_type": "markdown",
   "metadata": {
    "execution": {}
   },
   "source": [
    "# Section 3: Temporal differentiation\n",
    "\n",
    "Estimated timing to here from start of tutorial: 35 minutes.\n"
   ]
  },
  {
   "cell_type": "markdown",
   "metadata": {},
   "source": [
    "##  Video 3: Temporal differentiation\n"
   ]
  },
  {
   "cell_type": "code",
   "execution_count": null,
   "metadata": {
    "cellView": "form",
    "execution": {},
    "tags": [
     "remove-input"
    ]
   },
   "outputs": [],
   "source": [
    "# @title Video 3: Temporal differentiation\n",
    "\n",
    "from ipywidgets import widgets\n",
    "from IPython.display import YouTubeVideo\n",
    "from IPython.display import IFrame\n",
    "from IPython.display import display\n",
    "\n",
    "\n",
    "class PlayVideo(IFrame):\n",
    "  def __init__(self, id, source, page=1, width=400, height=300, **kwargs):\n",
    "    self.id = id\n",
    "    if source == 'Bilibili':\n",
    "      src = f'https://player.bilibili.com/player.html?bvid={id}&page={page}'\n",
    "    elif source == 'Osf':\n",
    "      src = f'https://mfr.ca-1.osf.io/render?url=https://osf.io/download/{id}/?direct%26mode=render'\n",
    "    super(PlayVideo, self).__init__(src, width, height, **kwargs)\n",
    "\n",
    "\n",
    "def display_videos(video_ids, W=400, H=300, fs=1):\n",
    "  tab_contents = []\n",
    "  for i, video_id in enumerate(video_ids):\n",
    "    out = widgets.Output()\n",
    "    with out:\n",
    "      if video_ids[i][0] == 'Youtube':\n",
    "        video = YouTubeVideo(id=video_ids[i][1], width=W,\n",
    "                             height=H, fs=fs, rel=0)\n",
    "        print(f'Video available at https://youtube.com/watch?v={video.id}')\n",
    "      else:\n",
    "        video = PlayVideo(id=video_ids[i][1], source=video_ids[i][0], width=W,\n",
    "                          height=H, fs=fs, autoplay=False)\n",
    "        if video_ids[i][0] == 'Bilibili':\n",
    "          print(f'Video available at https://www.bilibili.com/video/{video.id}')\n",
    "        elif video_ids[i][0] == 'Osf':\n",
    "          print(f'Video available at https://osf.io/{video.id}')\n",
    "      display(video)\n",
    "    tab_contents.append(out)\n",
    "  return tab_contents\n",
    "\n",
    "\n",
    "video_ids = [('Youtube', 'JwltmHZzIYg')]\n",
    "tab_contents = display_videos(video_ids, W=730, H=410)\n",
    "tabs = widgets.Tab()\n",
    "tabs.children = tab_contents\n",
    "for i in range(len(tab_contents)):\n",
    "  tabs.set_title(i, video_ids[i][0])\n",
    "display(tabs)"
   ]
  },
  {
   "cell_type": "markdown",
   "metadata": {
    "execution": {}
   },
   "source": [
    "## Coding Exercise 3"
   ]
  },
  {
   "cell_type": "markdown",
   "metadata": {
    "execution": {}
   },
   "source": [
    "Now, we will focus on the temporal differences of a natural signal. Particularly, let the pixel value at time $t$ be $pixel_t$ for all $t = 1\\dots T$. We look on:\n",
    "$$\\Delta(pixel_t) = pixel_t - pixel_{t-1} \\quad  \\forall \\quad t = 2\\dots T$$\n",
    "\n",
    "How do you think the temporal different of a natural signal will look like? \n",
    "\n",
    "In this exercise, you will have to look on the temporal differentaition of a natural signal and quantify its sparsity. We will return back to the already defined pixel signal `sig`.\n",
    "\n"
   ]
  },
  {
   "cell_type": "markdown",
   "metadata": {
    "execution": {}
   },
   "source": [
    "### Coding Exercise 3A: Temporal differencing signal \n",
    "\n",
    "Define a temporal differencing signal (abs. value) called **temporal_diff**. You can use the built-in *diff* function of numpy.\n"
   ]
  },
  {
   "cell_type": "markdown",
   "metadata": {
    "colab_type": "text",
    "execution": {}
   },
   "source": [
    "```python\n",
    "###################################################################\n",
    "## Fill out the following then remove\n",
    "raise NotImplementedError(\"Student exercise: complete temporal differentiation.\")\n",
    "###################################################################\n",
    "# define temporal_diff\n",
    "temporal_diff = ...\n",
    "plot_signal(temporal_diff, title = \"\", ylabel = \"$| pixel_t - pixel_{t-1} | $\")\n",
    "\n",
    "```"
   ]
  },
  {
   "cell_type": "code",
   "execution_count": null,
   "metadata": {
    "execution": {}
   },
   "outputs": [],
   "source": [
    "#to_remove solution\n",
    "# define temporal_diff\n",
    "temporal_diff = np.abs(np.diff(sig))\n",
    "plot_signal(temporal_diff, title = \"\", ylabel = \"$| pixel_t - pixel_{t-1} | $\")"
   ]
  },
  {
   "cell_type": "markdown",
   "metadata": {
    "execution": {}
   },
   "source": [
    "Let's take a look on the histogram of the temporal differences values as well as kurtosis values."
   ]
  },
  {
   "cell_type": "code",
   "execution_count": null,
   "metadata": {
    "execution": {},
    "executionInfo": {
     "elapsed": 1163,
     "status": "ok",
     "timestamp": 1712493135466,
     "user": {
      "displayName": "Noga Mudrik",
      "userId": "02231196708671115202"
     },
     "user_tz": 240
    }
   },
   "outputs": [],
   "source": [
    "plot_temporal_difference_histogram(sig, temporal_diff)"
   ]
  },
  {
   "cell_type": "code",
   "execution_count": null,
   "metadata": {
    "execution": {},
    "executionInfo": {
     "elapsed": 855,
     "status": "ok",
     "timestamp": 1712746348541,
     "user": {
      "displayName": "Noga Mudrik",
      "userId": "02231196708671115202"
     },
     "user_tz": 240
    }
   },
   "outputs": [],
   "source": [
    "plot_labeled_kurtosis(sig, temporal_diff, labels = ['Signal', 'Temporal \\n Diff.'])"
   ]
  },
  {
   "cell_type": "markdown",
   "metadata": {
    "execution": {}
   },
   "source": [
    "### Coding Exercise 3B: Increasing the temporal differcing intervals"
   ]
  },
  {
   "cell_type": "markdown",
   "metadata": {
    "execution": {}
   },
   "source": [
    "So far, we focused on single intervals, i.e. $\\Delta_t = pixel_t - pixel_{t-1}$.\n",
    "\n",
    "What happen if we look on longer-scale differences? I.e. $$\\Delta_t(\\tau) = pixel_t - pixel_{t-\\tau}$$ for some $\\tau > 1$?"
   ]
  },
  {
   "cell_type": "markdown",
   "metadata": {
    "execution": {}
   },
   "source": [
    "In this exercise, we will explore the effects of increasing $\\tau$ values on the sparsity of the temporal differentiation signal.\n",
    "\n",
    "1) Create an array of 10 different $\\tau$ values: $taus = [1, 11, 21... , 91]$.\n",
    "\n",
    "2) Create a list called **taus_list** composed of of 10 arrays where the $j$-th array is the temporal differetiation with an interval equal to the $j$-th $\\tau$.\n",
    "\n",
    "3) Plot a heatmap that compares the histograms of the different taus.\n",
    "\n",
    "Pay attention: here, it is NOT recommended to use to built-in `diff` function."
   ]
  },
  {
   "cell_type": "markdown",
   "metadata": {
    "colab_type": "text",
    "execution": {}
   },
   "source": [
    "```python\n",
    "###################################################################\n",
    "## Fill out the following then remove\n",
    "raise NotImplementedError(\"Student exercise: complete calcualtion of `taus` and `taus_list`.\")\n",
    "###################################################################\n",
    "num_taus = 10\n",
    "\n",
    "# create taus\n",
    "taus = ...\n",
    "\n",
    "# create taus_list\n",
    "taus_list = ...\n",
    "\n",
    "plot_temp_diff_histogram(sig, taus, taus_list)\n",
    "\n",
    "```"
   ]
  },
  {
   "cell_type": "code",
   "execution_count": null,
   "metadata": {
    "execution": {},
    "executionInfo": {
     "elapsed": 1221,
     "status": "ok",
     "timestamp": 1712743772146,
     "user": {
      "displayName": "Noga Mudrik",
      "userId": "02231196708671115202"
     },
     "user_tz": 240
    }
   },
   "outputs": [],
   "source": [
    "#to_remove solution\n",
    "num_taus = 10\n",
    "\n",
    "# create taus\n",
    "taus = np.linspace(1,91,num_taus).astype(int)\n",
    "\n",
    "# create taus_list\n",
    "taus_list = [np.abs(sig[tau:] - sig[:-tau]) for tau in taus]\n",
    "\n",
    "plot_temp_diff_histogram(sig, taus, taus_list)"
   ]
  },
  {
   "cell_type": "markdown",
   "metadata": {
    "execution": {}
   },
   "source": [
    "Now, let us take a look at the histograms for each $\\tau$ separately as well as for kurtosis values."
   ]
  },
  {
   "cell_type": "code",
   "execution_count": null,
   "metadata": {
    "execution": {}
   },
   "outputs": [],
   "source": [
    "plot_temp_diff_separate_histograms(sig, taus, taus_list)"
   ]
  },
  {
   "cell_type": "code",
   "execution_count": null,
   "metadata": {
    "execution": {}
   },
   "outputs": [],
   "source": [
    "plot_temp_diff_kurtosis(sig, taus, taus_list)"
   ]
  },
  {
   "cell_type": "markdown",
   "metadata": {
    "execution": {}
   },
   "source": [
    "### Coding Exercise 3C: Increasing the temporal differencing intervals using Exponential Moving Average (EMA)\n",
    "\n",
    "At first let's define `ema` function which takes signal and the size of the window as inputs. What is does under the hood is the simple convolution between signal and exponential window, where its size defines the actual size of the array we are going to convolve our function on. Observe the results visually for `window = 10`. We will do temporal difference as the difference between raw signal and its EMA version for different values of windows."
   ]
  },
  {
   "cell_type": "code",
   "execution_count": null,
   "metadata": {
    "execution": {}
   },
   "outputs": [],
   "source": [
    "def ema(data, window):\n",
    "    weights = np.exp(np.linspace(-1., 0., window))\n",
    "    weights /= weights.sum()\n",
    "    ema = np.convolve(data, weights, mode='full')[:len(data)]\n",
    "    ema[:window] = ema[window]\n",
    "    return ema\n",
    "\n",
    "window = 10\n",
    "ema_signal = ema(sig, window)\n",
    "plot_ema(sig, window, ema_signal)"
   ]
  },
  {
   "cell_type": "markdown",
   "metadata": {
    "execution": {}
   },
   "source": [
    "Now, define the window for 10 different values: `windows = [1,11,21,...91]` and calculate corresponding `EMA` versions of the signal."
   ]
  },
  {
   "cell_type": "markdown",
   "metadata": {
    "colab_type": "text",
    "execution": {}
   },
   "source": [
    "```python\n",
    "###################################################################\n",
    "## Fill out the following then remove\n",
    "raise NotImplementedError(\"Student exercise: complete calcualtion of `windows` and `ema_values`.\")\n",
    "###################################################################\n",
    "windows = ...\n",
    "ema_values = ...\n",
    "\n",
    "```"
   ]
  },
  {
   "cell_type": "code",
   "execution_count": null,
   "metadata": {
    "execution": {}
   },
   "outputs": [],
   "source": [
    "#to_remove solution\n",
    "windows = np.linspace(1, 91, 10)\n",
    "ema_values = [ema(sig, int(window)) for window in windows]"
   ]
  },
  {
   "cell_type": "markdown",
   "metadata": {
    "execution": {}
   },
   "source": [
    "Now, let's take a look at the temporal differenced versions of filtered signals as well as for separate histograms and kurtosis values."
   ]
  },
  {
   "cell_type": "code",
   "execution_count": null,
   "metadata": {
    "execution": {}
   },
   "outputs": [],
   "source": [
    "plot_diff_with_ema(sig, windows, ema_values)"
   ]
  },
  {
   "cell_type": "code",
   "execution_count": null,
   "metadata": {
    "execution": {}
   },
   "outputs": [],
   "source": [
    "plot_temp_diff_separate_histograms(sig, windows, ema_values, tau = False)"
   ]
  },
  {
   "cell_type": "code",
   "execution_count": null,
   "metadata": {
    "execution": {},
    "executionInfo": {
     "elapsed": 1328,
     "status": "ok",
     "timestamp": 1712747058431,
     "user": {
      "displayName": "Noga Mudrik",
      "userId": "02231196708671115202"
     },
     "user_tz": 240
    }
   },
   "outputs": [],
   "source": [
    "plot_temp_diff_kurtosis(sig, windows, ema_values, tau = False)"
   ]
  },
  {
   "cell_type": "markdown",
   "metadata": {
    "execution": {}
   },
   "source": [
    "# Section 4: Spatial Differentiation\n",
    "\n",
    "Estimated timing to here from start of tutorial: 1 hour."
   ]
  },
  {
   "cell_type": "markdown",
   "metadata": {
    "execution": {}
   },
   "source": [
    "## Coding Exercise 4"
   ]
  },
  {
   "cell_type": "markdown",
   "metadata": {
    "execution": {}
   },
   "source": [
    "Now we will focus on spatial differentiation.\n",
    "Spatial differeitation is common in identifying image patterns and extract meaningful features.\n",
    "Let's apply it on the 1st frame to look on the result (meaning we return back to the 2D signal which represents image).\n"
   ]
  },
  {
   "cell_type": "markdown",
   "metadata": {
    "execution": {}
   },
   "source": [
    "### Coding Exercise 4A: Compare spatial differentiation over the horizontal and vertical image axes"
   ]
  },
  {
   "cell_type": "markdown",
   "metadata": {
    "execution": {}
   },
   "source": [
    "Below, apply 1-frame spatial differentiation on **frame**.\n",
    "Particularly, define a variable **diff_x** that stores the x-axis differenration and **diff_y** that stores the y-axis differentiation. Compare the results by presenting the differetiated image.\n",
    "\n",
    "What do you see?\n"
   ]
  },
  {
   "cell_type": "markdown",
   "metadata": {
    "colab_type": "text",
    "execution": {}
   },
   "source": [
    "```python\n",
    "###################################################################\n",
    "## Fill out the following then remove\n",
    "raise NotImplementedError(\"Student exercise: complete calcualtion of `diff_x` and `diff_y`.\")\n",
    "###################################################################\n",
    "# below, define diff_x and diff_y\n",
    "diff_x = ...\n",
    "diff_y = ...\n",
    "\n",
    "plot_spatial_diff(frame, diff_x,  diff_y)\n",
    "\n",
    "```"
   ]
  },
  {
   "cell_type": "code",
   "execution_count": null,
   "metadata": {
    "execution": {},
    "executionInfo": {
     "elapsed": 10969,
     "status": "ok",
     "timestamp": 1712744837981,
     "user": {
      "displayName": "Noga Mudrik",
      "userId": "02231196708671115202"
     },
     "user_tz": 240
    }
   },
   "outputs": [],
   "source": [
    "#to_remove solution\n",
    "# below, define diff_x and diff_y\n",
    "diff_x = np.diff(frame, axis = 1)\n",
    "diff_y = np.diff(frame, axis = 0)\n",
    "\n",
    "plot_spatial_diff(frame, diff_x,  diff_y)"
   ]
  },
  {
   "cell_type": "markdown",
   "metadata": {
    "execution": {}
   },
   "source": [
    "Now, as usual, let's look on the histogram and kurtosis."
   ]
  },
  {
   "cell_type": "code",
   "execution_count": null,
   "metadata": {
    "execution": {}
   },
   "outputs": [],
   "source": [
    "plot_spatial_histogram(frame, diff_x, diff_y)"
   ]
  },
  {
   "cell_type": "code",
   "execution_count": null,
   "metadata": {
    "execution": {}
   },
   "outputs": [],
   "source": [
    "plot_spatial_kurtosis(frame, diff_x, diff_y)"
   ]
  },
  {
   "cell_type": "markdown",
   "metadata": {
    "execution": {}
   },
   "source": [
    "### Coding Exercise 4B: Increasing space interval"
   ]
  },
  {
   "cell_type": "markdown",
   "metadata": {
    "execution": {}
   },
   "source": [
    "Now, let's explore spatial differentiation for longer scales. Particularly:\n",
    "$$\n",
    "frame[:,j] - frame[:,j - \\tau] \\textrm{ for horinzontal differentiation}\n",
    "$$\n",
    "and\n",
    "$$\n",
    "frame[j,:] - frame[j - \\tau,:] \\textrm{ for vertical differentiation}.\n",
    "$$\n",
    "As we did with the temporal differentiation, let's explore 10 values for $\\\\tau$, i.e., $\\tau \\in [1,11, ...91]$"
   ]
  },
  {
   "cell_type": "markdown",
   "metadata": {
    "colab_type": "text",
    "execution": {}
   },
   "source": [
    "```python\n",
    "###################################################################\n",
    "## Fill out the following then remove\n",
    "raise NotImplementedError(\"Student exercise: complete calcualtion of `taus`, `taus_list_x` and `taus_list_y`.\")\n",
    "###################################################################\n",
    "num_taus = 10\n",
    "\n",
    "# create taus\n",
    "taus = ...\n",
    "# create taus_list\n",
    "taus_list_x = ...\n",
    "taus_list_y = ...\n",
    "\n",
    "plot_spatial_diff_histogram(taus, taus_list_x, taus_list_y)\n",
    "\n",
    "```"
   ]
  },
  {
   "cell_type": "code",
   "execution_count": null,
   "metadata": {
    "execution": {},
    "executionInfo": {
     "elapsed": 7891,
     "status": "ok",
     "timestamp": 1712750993104,
     "user": {
      "displayName": "Noga Mudrik",
      "userId": "02231196708671115202"
     },
     "user_tz": 240
    }
   },
   "outputs": [],
   "source": [
    "#to_remove solution\n",
    "num_taus = 10\n",
    "\n",
    "# create taus\n",
    "taus = np.linspace(1,91,num_taus).astype(int)\n",
    "\n",
    "# create taus_list\n",
    "taus_list_x = [np.abs(frame[:,tau:] - frame[:,:-tau]) for tau in taus]\n",
    "taus_list_y = [np.abs(frame[tau:,:] - frame[:-tau,:]) for tau in taus]\n",
    "\n",
    "plot_spatial_diff_histogram(taus, taus_list_x, taus_list_y)"
   ]
  },
  {
   "cell_type": "markdown",
   "metadata": {
    "execution": {}
   },
   "source": [
    "Observe the kurtosis plot as well."
   ]
  },
  {
   "cell_type": "markdown",
   "metadata": {},
   "source": [
    " Make sure you execute this cell to observe the plot!\n"
   ]
  },
  {
   "cell_type": "code",
   "execution_count": null,
   "metadata": {
    "cellView": "form",
    "execution": {},
    "executionInfo": {
     "elapsed": 3952,
     "status": "ok",
     "timestamp": 1712753668236,
     "user": {
      "displayName": "Noga Mudrik",
      "userId": "02231196708671115202"
     },
     "user_tz": 240
    },
    "tags": [
     "hide-input"
    ]
   },
   "outputs": [],
   "source": [
    "# @markdown Make sure you execute this cell to observe the plot!\n",
    "with plt.xkcd():\n",
    "    fig, ax = plt.subplots(figsize = (7,4))\n",
    "    tauskur = [kurtosis(taus_list_i.flatten()) for taus_list_i in taus_list_x]\n",
    "    pd.DataFrame([kurtosis(frame.flatten())] + tauskur, index = ['Signal']+ ['$window = {%d}$'%tau for tau in windows], columns = ['kurtosis x']).plot.barh(ax = ax, alpha = 0.5, color = 'purple')\n",
    "    remove_edges(ax)\n",
    "\n",
    "    fig, ax = plt.subplots(figsize = (7,4))\n",
    "    tauskur = [kurtosis(taus_list_i.flatten()) for taus_list_i in taus_list_y]\n",
    "    pd.DataFrame([kurtosis(frame.flatten())] + tauskur, index = ['Signal']+ ['$window = {%d}$'%tau for tau in windows], columns = ['kurtosis y']).plot.barh(ax = ax, alpha = 0.5, color = 'pink')\n",
    "    remove_edges(ax)"
   ]
  },
  {
   "cell_type": "markdown",
   "metadata": {
    "execution": {}
   },
   "source": [
    "Now, let's take a similar approach, however claculate the differetiation with EMA, as we did for the temporal case. Below, define the  \"ema_values_y\" variable for the given windows, for the 1st frame, in both x and y."
   ]
  },
  {
   "cell_type": "markdown",
   "metadata": {
    "colab_type": "text",
    "execution": {}
   },
   "source": [
    "```python\n",
    "###################################################################\n",
    "## Fill out the following then remove\n",
    "raise NotImplementedError(\"Student exercise: complete calcualtion of `ema_values_y`.\")\n",
    "###################################################################\n",
    "\n",
    "num_winds = 10\n",
    "windows = np.linspace(2,92,num_winds)\n",
    "rows = frame.shape[0]\n",
    "cols = frame.shape[1]\n",
    "\n",
    "ema_values_x = [np.array([ema(frame[row], int(window))  for row in range(rows)]) for window in windows]\n",
    "\n",
    "# deifne ema_values_y\n",
    "ema_values_y = ...\n",
    "\n",
    "visualize_images_ema(frame, ema_values_x, ema_values_y)\n",
    "\n",
    "```"
   ]
  },
  {
   "cell_type": "code",
   "execution_count": null,
   "metadata": {
    "execution": {},
    "executionInfo": {
     "elapsed": 35407,
     "status": "ok",
     "timestamp": 1712750308313,
     "user": {
      "displayName": "Noga Mudrik",
      "userId": "02231196708671115202"
     },
     "user_tz": 240
    }
   },
   "outputs": [],
   "source": [
    "#to_remove solution\n",
    "num_winds = 10\n",
    "windows = np.linspace(2,92,num_winds)\n",
    "rows = frame.shape[0]\n",
    "cols = frame.shape[1]\n",
    "\n",
    "ema_values_x = [np.array([ema(frame[row], int(window))  for row in range(rows)]) for window in windows]\n",
    "\n",
    "# deifne ema_values_y\n",
    "ema_values_y = [np.array([ema(frame[:, col], int(window))  for col in range(cols)]) for window in windows]\n",
    "\n",
    "visualize_images_ema(frame, ema_values_x, ema_values_y)"
   ]
  },
  {
   "cell_type": "markdown",
   "metadata": {},
   "source": [
    " Make sure you execute this cell to observe the plot!\n"
   ]
  },
  {
   "cell_type": "code",
   "execution_count": null,
   "metadata": {
    "cellView": "form",
    "execution": {},
    "executionInfo": {
     "elapsed": 4330,
     "status": "ok",
     "timestamp": 1712752795467,
     "user": {
      "displayName": "Noga Mudrik",
      "userId": "02231196708671115202"
     },
     "user_tz": 240
    },
    "tags": [
     "hide-input"
    ]
   },
   "outputs": [],
   "source": [
    "# @markdown Make sure you execute this cell to observe the plot!\n",
    "\n",
    "with plt.xkcd():\n",
    "    fig, ax = plt.subplots(figsize = (17,7))\n",
    "    tauskur = [kurtosis(np.abs(frame - ema_values_i).flatten()) for ema_values_i in ema_values_x]\n",
    "    tauskur_y = [kurtosis(np.abs(frame.T - ema_values_i).flatten()) for ema_values_i in ema_values_y]\n",
    "\n",
    "    df1 = pd.DataFrame([kurtosis(sig)] + tauskur, index = ['Signal']+ ['$window = {%d}$'%tau for tau in windows], columns = ['kurtosis x'])\n",
    "    df2 = pd.DataFrame([kurtosis(sig)] + tauskur_y, index = ['Signal']+ ['$window = {%d}$'%tau for tau in windows], columns = ['kurtosis y'])\n",
    "    dfs = pd.concat([df1,df2], axis = 1)\n",
    "    dfs.plot.barh(ax = ax, alpha = 0.5, color =['purple', 'pink'])\n",
    "    remove_edges(ax)\n",
    "    plt.show()"
   ]
  },
  {
   "cell_type": "markdown",
   "metadata": {
    "execution": {}
   },
   "source": [
    "# Section 5: What is sparse coding?\n",
    "\n",
    "Estimated timing to here from start of tutorial: 1 hour 15 minutes."
   ]
  },
  {
   "cell_type": "markdown",
   "metadata": {},
   "source": [
    "##  Video 4: Sparse coding\n"
   ]
  },
  {
   "cell_type": "code",
   "execution_count": null,
   "metadata": {
    "cellView": "form",
    "execution": {},
    "tags": [
     "remove-input"
    ]
   },
   "outputs": [],
   "source": [
    "# @title Video 4: Sparse coding\n",
    "\n",
    "from ipywidgets import widgets\n",
    "from IPython.display import YouTubeVideo\n",
    "from IPython.display import IFrame\n",
    "from IPython.display import display\n",
    "\n",
    "\n",
    "class PlayVideo(IFrame):\n",
    "  def __init__(self, id, source, page=1, width=400, height=300, **kwargs):\n",
    "    self.id = id\n",
    "    if source == 'Bilibili':\n",
    "      src = f'https://player.bilibili.com/player.html?bvid={id}&page={page}'\n",
    "    elif source == 'Osf':\n",
    "      src = f'https://mfr.ca-1.osf.io/render?url=https://osf.io/download/{id}/?direct%26mode=render'\n",
    "    super(PlayVideo, self).__init__(src, width, height, **kwargs)\n",
    "\n",
    "\n",
    "def display_videos(video_ids, W=400, H=300, fs=1):\n",
    "  tab_contents = []\n",
    "  for i, video_id in enumerate(video_ids):\n",
    "    out = widgets.Output()\n",
    "    with out:\n",
    "      if video_ids[i][0] == 'Youtube':\n",
    "        video = YouTubeVideo(id=video_ids[i][1], width=W,\n",
    "                             height=H, fs=fs, rel=0)\n",
    "        print(f'Video available at https://youtube.com/watch?v={video.id}')\n",
    "      else:\n",
    "        video = PlayVideo(id=video_ids[i][1], source=video_ids[i][0], width=W,\n",
    "                          height=H, fs=fs, autoplay=False)\n",
    "        if video_ids[i][0] == 'Bilibili':\n",
    "          print(f'Video available at https://www.bilibili.com/video/{video.id}')\n",
    "        elif video_ids[i][0] == 'Osf':\n",
    "          print(f'Video available at https://osf.io/{video.id}')\n",
    "      display(video)\n",
    "    tab_contents.append(out)\n",
    "  return tab_contents\n",
    "\n",
    "\n",
    "video_ids = [('Youtube', 'hLxSTxmLbwg')]\n",
    "tab_contents = display_videos(video_ids, W=730, H=410)\n",
    "tabs = widgets.Tab()\n",
    "tabs.children = tab_contents\n",
    "for i in range(len(tab_contents)):\n",
    "  tabs.set_title(i, video_ids[i][0])\n",
    "display(tabs)"
   ]
  },
  {
   "cell_type": "markdown",
   "metadata": {
    "execution": {}
   },
   "source": [
    "Sparse coding refers to a coding strategy where the representation of data is sparse, meaning that only a small number of elements are active or nonzero while the majority are zero or inactive. This concept is often applied to sensory inputs, such as images or sounds, where the goal is to find a concise and efficient representation that captures the essential features of the input."
   ]
  },
  {
   "cell_type": "markdown",
   "metadata": {
    "execution": {}
   },
   "source": [
    "### Neuroscience background to sparse coding"
   ]
  },
  {
   "cell_type": "markdown",
   "metadata": {
    "execution": {}
   },
   "source": [
    "\n",
    "A pivotal experiment conducted by David Hubel and Torsten Wiesel [1] at Johns Hopkins University in 1959 aimed to address this inquiry by implanting an electrode into the visual cortex of a living cat and measuring its electrical activity in response to displayed images.\n",
    "\n",
    "Despite prolonged exposure to various images, no significant activity was recorded.\n",
    "\n",
    "However, an unexpected observation occurred when the slide was inserted and removed from the projector, revealing a response to the shape of the slide's edge.\n",
    "\n",
    "This led to the discovery of neurons highly sensitive to **edge orientation and location**, providing the first insights into the type of information coded by neurons.\n",
    "\n",
    "\n",
    "\n",
    "*[1] Hubel, David H., and Torsten N. Wiesel. \"Effects of monocular deprivation in kittens.\" Naunyn-Schmiedebergs Archiv for Experimentelle Pathologie und Pharmakologie 248 (1964): 492–7. http://hubel.med.harvard.edu/papers/HubelWiesel1964NaunynSchmiedebergsArchExpPatholPharmakol.pdf*"
   ]
  },
  {
   "cell_type": "markdown",
   "metadata": {
    "execution": {}
   },
   "source": [
    "- **What implications do these specialized properties of neural representation hold for our understanding of visual perception?**\n",
    " - **How might these findings inform computational models of visual processing in artificial systems?**"
   ]
  },
  {
   "cell_type": "markdown",
   "metadata": {
    "execution": {}
   },
   "source": [
    "### Neuroscience to AI"
   ]
  },
  {
   "cell_type": "markdown",
   "metadata": {
    "execution": {}
   },
   "source": [
    "In 1996, Bruno Olshausen and David Field [2] published a paper that demonstrated sparse coding in the visual system, particularly in V1.\n",
    "\n",
    "Their research focused on understanding receptive field properties of neurons in the visual cortex, an aspect of sensory processing in the brain.\n",
    "\n",
    "Olshausen and Field showed that emergent properties of learned receptive fields resembled those in biological visual systems.\n",
    "\n",
    "They found that neuron selectivity in the visual cortex could be explained through **sparse coding**, where only **a small subset of neurons responded to specific features or patterns**.\n",
    "\n",
    "\n",
    "[2] *Olshausen, B. A., & Field, D. J. (1996). Emergence of simple-cell receptive field properties by learning a sparse code for natural images. Nature*"
   ]
  },
  {
   "cell_type": "markdown",
   "metadata": {
    "execution": {}
   },
   "source": [
    "# Section 5: $\\ell_0$ pseudo-norm regularization to promote sparsity\n",
    "\n",
    "Estimated timing to here from start of tutorial: 1 hour 25 minutes."
   ]
  },
  {
   "cell_type": "markdown",
   "metadata": {},
   "source": [
    "##  Video 5: l0 pseudo-norm regularization\n"
   ]
  },
  {
   "cell_type": "code",
   "execution_count": null,
   "metadata": {
    "cellView": "form",
    "execution": {},
    "tags": [
     "remove-input"
    ]
   },
   "outputs": [],
   "source": [
    "# @title Video 5: l0 pseudo-norm regularization\n",
    "\n",
    "from ipywidgets import widgets\n",
    "from IPython.display import YouTubeVideo\n",
    "from IPython.display import IFrame\n",
    "from IPython.display import display\n",
    "\n",
    "\n",
    "class PlayVideo(IFrame):\n",
    "  def __init__(self, id, source, page=1, width=400, height=300, **kwargs):\n",
    "    self.id = id\n",
    "    if source == 'Bilibili':\n",
    "      src = f'https://player.bilibili.com/player.html?bvid={id}&page={page}'\n",
    "    elif source == 'Osf':\n",
    "      src = f'https://mfr.ca-1.osf.io/render?url=https://osf.io/download/{id}/?direct%26mode=render'\n",
    "    super(PlayVideo, self).__init__(src, width, height, **kwargs)\n",
    "\n",
    "\n",
    "def display_videos(video_ids, W=400, H=300, fs=1):\n",
    "  tab_contents = []\n",
    "  for i, video_id in enumerate(video_ids):\n",
    "    out = widgets.Output()\n",
    "    with out:\n",
    "      if video_ids[i][0] == 'Youtube':\n",
    "        video = YouTubeVideo(id=video_ids[i][1], width=W,\n",
    "                             height=H, fs=fs, rel=0)\n",
    "        print(f'Video available at https://youtube.com/watch?v={video.id}')\n",
    "      else:\n",
    "        video = PlayVideo(id=video_ids[i][1], source=video_ids[i][0], width=W,\n",
    "                          height=H, fs=fs, autoplay=False)\n",
    "        if video_ids[i][0] == 'Bilibili':\n",
    "          print(f'Video available at https://www.bilibili.com/video/{video.id}')\n",
    "        elif video_ids[i][0] == 'Osf':\n",
    "          print(f'Video available at https://osf.io/{video.id}')\n",
    "      display(video)\n",
    "    tab_contents.append(out)\n",
    "  return tab_contents\n",
    "\n",
    "\n",
    "video_ids = [('Youtube', 'im3QbS4UpAQ')]\n",
    "tab_contents = display_videos(video_ids, W=730, H=410)\n",
    "tabs = widgets.Tab()\n",
    "tabs.children = tab_contents\n",
    "for i in range(len(tab_contents)):\n",
    "  tabs.set_title(i, video_ids[i][0])\n",
    "display(tabs)"
   ]
  },
  {
   "cell_type": "markdown",
   "metadata": {
    "execution": {}
   },
   "source": [
    "The $\\ell_0$ pseudo-norm is defined as the number of non-zero elements in the signal. Particularly, let $x \\in \\mathbb{R}^{J}$ be a vector with $J$ elements. Then:\n",
    "\n",
    "$$\\|x\\|_0 = \\sum_{j = 1}^J \\mathbb{1}_{x_{j} \\neq 0}$$\n",
    "\n",
    "Hence, the  $\\|\\ell\\|_0$ pseudo-norm  can be used to promote sparsity by adding it to a cost function to \"punish\" the number of non-zero elements.\n",
    "\n",
    "Particularly, let's assume that we have a simple linear model, where we want to capture the observations $y$ using the linear model $D$ with sparse weights $x$.\n",
    "Particularly, we are looking for the weights $x$ under the assumption that:\n",
    "$$ y = Dx + \\epsilon$$ where $\\epsilon$ is an *i.i.d* Gaussian noise with zero mean and std of $\\sigma_\\epsilon$, i.e., $\\epsilon \\sim \\mathcal{N}(0, \\sigma_\\epsilon^2)$.\n",
    "\n",
    "If we assume that $x$ is sparse, i.e., that it has only a few non-zero elements, we would like to \"punish\" the number of non-zero elements.\n",
    "\n",
    "We thus want to solve the following minimization problem:\n",
    "$$\n",
    "\\hat{x} = \\arg \\min_x \\|y - Dx \\| + \\lambda \\|x\\|_0\n",
    "$$\n",
    "\n",
    "\n"
   ]
  },
  {
   "cell_type": "markdown",
   "metadata": {
    "execution": {}
   },
   "source": [
    "Consider the visualization:\n",
    "\n",
    "\n",
    "![image.png](data:image/png;base64,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)\n",
    "\n"
   ]
  },
  {
   "cell_type": "markdown",
   "metadata": {
    "execution": {}
   },
   "source": [
    "One of the methods to find the sparsest solution for a linear decomposition with $\\ell_0$ regaularization is though OMP [1].\n",
    "\n",
    "\n",
    "[1] Pati, Y. C., Rezaiifar, R., & Krishnaprasad, P. S. (1993, November). Orthogonal matching pursuit: Recursive function approximation with applications to wavelet decomposition. In Proceedings of 27th Asilomar conference on signals, systems and computers (pp. 40-44). IEEE.\n"
   ]
  },
  {
   "cell_type": "markdown",
   "metadata": {},
   "source": [
    "##  Video 6: OMP\n"
   ]
  },
  {
   "cell_type": "code",
   "execution_count": null,
   "metadata": {
    "cellView": "form",
    "execution": {},
    "tags": [
     "remove-input"
    ]
   },
   "outputs": [],
   "source": [
    "# @title Video 6: OMP\n",
    "\n",
    "from ipywidgets import widgets\n",
    "from IPython.display import YouTubeVideo\n",
    "from IPython.display import IFrame\n",
    "from IPython.display import display\n",
    "\n",
    "\n",
    "class PlayVideo(IFrame):\n",
    "  def __init__(self, id, source, page=1, width=400, height=300, **kwargs):\n",
    "    self.id = id\n",
    "    if source == 'Bilibili':\n",
    "      src = f'https://player.bilibili.com/player.html?bvid={id}&page={page}'\n",
    "    elif source == 'Osf':\n",
    "      src = f'https://mfr.ca-1.osf.io/render?url=https://osf.io/download/{id}/?direct%26mode=render'\n",
    "    super(PlayVideo, self).__init__(src, width, height, **kwargs)\n",
    "\n",
    "\n",
    "def display_videos(video_ids, W=400, H=300, fs=1):\n",
    "  tab_contents = []\n",
    "  for i, video_id in enumerate(video_ids):\n",
    "    out = widgets.Output()\n",
    "    with out:\n",
    "      if video_ids[i][0] == 'Youtube':\n",
    "        video = YouTubeVideo(id=video_ids[i][1], width=W,\n",
    "                             height=H, fs=fs, rel=0)\n",
    "        print(f'Video available at https://youtube.com/watch?v={video.id}')\n",
    "      else:\n",
    "        video = PlayVideo(id=video_ids[i][1], source=video_ids[i][0], width=W,\n",
    "                          height=H, fs=fs, autoplay=False)\n",
    "        if video_ids[i][0] == 'Bilibili':\n",
    "          print(f'Video available at https://www.bilibili.com/video/{video.id}')\n",
    "        elif video_ids[i][0] == 'Osf':\n",
    "          print(f'Video available at https://osf.io/{video.id}')\n",
    "      display(video)\n",
    "    tab_contents.append(out)\n",
    "  return tab_contents\n",
    "\n",
    "\n",
    "video_ids = [('Youtube', '1-ERUVsl_A8')]\n",
    "tab_contents = display_videos(video_ids, W=730, H=410)\n",
    "tabs = widgets.Tab()\n",
    "tabs.children = tab_contents\n",
    "for i in range(len(tab_contents)):\n",
    "  tabs.set_title(i, video_ids[i][0])\n",
    "display(tabs)"
   ]
  },
  {
   "cell_type": "markdown",
   "metadata": {
    "execution": {}
   },
   "source": [
    "### Coding Exercise 5A: OMP algorithm\n",
    "\n",
    "Write the OMP algorithm with increasing sparsity levels to explore how the pixel value are captured by different freqeuencies.\n",
    "\n"
   ]
  },
  {
   "cell_type": "markdown",
   "metadata": {
    "colab_type": "text",
    "execution": {}
   },
   "source": [
    "```python\n",
    "###################################################################\n",
    "## Fill out the following then remove\n",
    "raise NotImplementedError(\"Student exercise: complete OMP algorithm.\")\n",
    "###################################################################\n",
    "T_ar = np.arange(len(sig))\n",
    "\n",
    "# create a set of 20 signals with different frequencies, from 1 to 101, using sin(2\\pi f t).\n",
    "freqs = ...\n",
    "set_sigs = ...\n",
    "\n",
    "# define 'reg' --- an sklearn object of OrthogonalMatchingPursuit and fit it to the data, where the frequency bases are the atoms and the signal is the label\n",
    "reg = OrthogonalMatchingPursuit(fit_intercept = True, n_nonzero_coefs = 10).fit(np.vstack(set_sigs).T, sig)\n",
    "\n",
    "```"
   ]
  },
  {
   "cell_type": "code",
   "execution_count": null,
   "metadata": {
    "execution": {}
   },
   "outputs": [],
   "source": [
    "#to_remove solution\n",
    "T_ar = np.arange(len(sig))\n",
    "\n",
    "# create a set of 20 signals with different frequencies, from 1 to 101, using sin(2\\pi f t).\n",
    "freqs = np.linspace(0.001,1, 100)\n",
    "set_sigs = [np.sin(f*T_ar) for f in freqs]\n",
    "\n",
    "# define 'reg' --- an sklearn object of OrthogonalMatchingPursuit and fit it to the data, where the frequency bases are the atoms and the signal is the label\n",
    "reg = OrthogonalMatchingPursuit(fit_intercept = True, n_nonzero_coefs = 10).fit(np.vstack(set_sigs).T, sig)"
   ]
  },
  {
   "cell_type": "markdown",
   "metadata": {
    "execution": {}
   },
   "source": [
    "Observe the plot of 3 example signals."
   ]
  },
  {
   "cell_type": "markdown",
   "metadata": {},
   "source": [
    " Make sure you execute this cell to observe the plot!\n"
   ]
  },
  {
   "cell_type": "code",
   "execution_count": null,
   "metadata": {
    "cellView": "form",
    "execution": {},
    "executionInfo": {
     "elapsed": 1442,
     "status": "ok",
     "timestamp": 1712755765225,
     "user": {
      "displayName": "Noga Mudrik",
      "userId": "02231196708671115202"
     },
     "user_tz": 240
    },
    "tags": [
     "hide-input"
    ]
   },
   "outputs": [],
   "source": [
    "# @markdown Make sure you execute this cell to observe the plot!\n",
    "\n",
    "with plt.xkcd():\n",
    "    fig, axs = plt.subplots(3,1,sharex = True, figsize = (10,5), sharey = True)\n",
    "    axs[0].plot(set_sigs[0], lw = 3)\n",
    "    axs[1].plot(set_sigs[1], lw = 3)\n",
    "    axs[2].plot(set_sigs[-1], lw = 3)\n",
    "    [remove_edges(ax) for ax in axs]\n",
    "    [ax.set_xlim(left = 0) for ax in axs]\n",
    "    fig.tight_layout()"
   ]
  },
  {
   "cell_type": "markdown",
   "metadata": {
    "execution": {}
   },
   "source": [
    "Here we plot prediction and basis operators."
   ]
  },
  {
   "cell_type": "markdown",
   "metadata": {},
   "source": [
    " Make sure you execute this cell to observe the plot!\n"
   ]
  },
  {
   "cell_type": "code",
   "execution_count": null,
   "metadata": {
    "cellView": "form",
    "execution": {},
    "executionInfo": {
     "elapsed": 5864,
     "status": "ok",
     "timestamp": 1712755149782,
     "user": {
      "displayName": "Noga Mudrik",
      "userId": "02231196708671115202"
     },
     "user_tz": 240
    },
    "tags": [
     "hide-input"
    ]
   },
   "outputs": [],
   "source": [
    "# @markdown Make sure you execute this cell to observe the plot!\n",
    "\n",
    "with plt.xkcd():\n",
    "    fig, axs = plt.subplots(2,2, figsize = (30,20))\n",
    "    axs = axs.flatten()\n",
    "\n",
    "    sns.heatmap(np.vstack(set_sigs), ax = axs[0])\n",
    "    axs[0].set_yticks(np.arange(0,len(freqs)-.5, 4)+ 0.5)\n",
    "    axs[0].set_yticklabels(['$f = %.4f$'%freqs[int(j)] for j in np.arange(0,len(freqs)-0.5, 4)], rotation = 0)\n",
    "    add_labels(axs[0], xlabel = 'Time', ylabel= 'Basis Elements', title = 'Frequency Basis Elements')\n",
    "\n",
    "    axs[1].plot(sig, label = 'Original', lw = 4)\n",
    "    axs[1].plot(reg.predict(np.vstack(set_sigs).T), lw = 4, label = 'Reconstruction')\n",
    "    remove_edges(axs[1])\n",
    "    axs[1].legend()\n",
    "    add_labels(axs[1], xlabel = 'Time', ylabel= 'Signal', title = 'Reconstruction')\n",
    "    axs[1].set_xlim(left = 0)\n",
    "\n",
    "    axs[2].stem(freqs, reg.coef_)\n",
    "    remove_edges(axs[2])\n",
    "    add_labels(axs[2], xlabel = 'Frequencies', ylabel= 'Frequency weight', title = 'Frequency Components Contributions')\n",
    "    axs[2].set_xlim(left = 0)\n",
    "\n",
    "    num_colors = np.sum(reg.coef_ != 0)\n",
    "    cmap_name = 'winter'\n",
    "    samples = np.linspace(0, 1, num_colors)\n",
    "    colors = plt.colormaps[cmap_name](samples)\n",
    "    colors_expand = np.zeros((len(reg.coef_), 4))\n",
    "    colors_expand[reg.coef_!= 0] = np.vstack(colors)\n",
    "\n",
    "    axs[-1].plot(sig, label = 'Original', color = 'black')\n",
    "    [axs[-1].plot(reg.coef_[j]*set_sigs[j] + reg.intercept_, label = '$f = %.4f$'%f, lw = 4, color = colors_expand[j]) for j, f in enumerate(freqs) if  reg.coef_[j] != 0]\n",
    "    remove_edges(axs[-1])\n",
    "    axs[-1].legend(ncol = 4)\n",
    "    axs[-1].set_xlim(left = 0)\n",
    "    add_labels(axs[-1], xlabel = 'Time', ylabel= 'Signal', title = 'Contribution')"
   ]
  },
  {
   "cell_type": "markdown",
   "metadata": {
    "execution": {}
   },
   "source": [
    "### Coding Exercise 5B: Explore the effect of cardinality on the reconstruction"
   ]
  },
  {
   "cell_type": "markdown",
   "metadata": {
    "execution": {}
   },
   "source": [
    "Now we will explore the effect of increasing the cardinality. I.e., increasing the number of non-zero elements in the coefficients.\n",
    "Below, please run OMP with increasing number of non-zero, coefficiets, from 1 to 101 in intervals ot 5.\n",
    "We will then compare the accuracy and reconstruction performance of eahc order."
   ]
  },
  {
   "cell_type": "markdown",
   "metadata": {
    "colab_type": "text",
    "execution": {}
   },
   "source": [
    "```python\n",
    "###################################################################\n",
    "## Fill out the following then remove\n",
    "raise NotImplementedError(\"Student exercise: complete computation of cardinalities and then define OMP for each signal.\")\n",
    "###################################################################\n",
    "# define a list or numpy array of optional cardinallities from 1 to 51 in intervals of 5.\n",
    "cardinalities = ...\n",
    "\n",
    "# for each of the optional cardinalities, run OMP using the pixel's signal from before. Create a list called \"regs\" that include all OMP's fitted objects\n",
    "regs = ...\n",
    "\n",
    "```"
   ]
  },
  {
   "cell_type": "code",
   "execution_count": null,
   "metadata": {
    "execution": {}
   },
   "outputs": [],
   "source": [
    "#to_remove solution\n",
    "# define a list or numpy array of optional cardinallities from 1 to 51 in intervals of 5.\n",
    "cardinalities = np.arange(1,101,5)\n",
    "\n",
    "# for each of the optional cardinalities, run OMP using the pixel's signal from before. Create a list called \"regs\" that include all OMP's fitted objects\n",
    "regs = [OrthogonalMatchingPursuit(fit_intercept = True, n_nonzero_coefs = card).fit(np.vstack(set_sigs).T, sig) for card in cardinalities]"
   ]
  },
  {
   "cell_type": "markdown",
   "metadata": {
    "execution": {}
   },
   "source": [
    "Now let's observe the effect of the caridnality on the reconstruction."
   ]
  },
  {
   "cell_type": "markdown",
   "metadata": {},
   "source": [
    " Make sure you execute this cell to observe the plot!\n"
   ]
  },
  {
   "cell_type": "code",
   "execution_count": null,
   "metadata": {
    "cellView": "form",
    "execution": {},
    "executionInfo": {
     "elapsed": 313,
     "status": "ok",
     "timestamp": 1712755150071,
     "user": {
      "displayName": "Noga Mudrik",
      "userId": "02231196708671115202"
     },
     "user_tz": 240
    },
    "tags": [
     "hide-input"
    ]
   },
   "outputs": [],
   "source": [
    "# @markdown Make sure you execute this cell to observe the plot!\n",
    "\n",
    "with plt.xkcd():\n",
    "    fig, axs = plt.subplots(1, 2, figsize = (20,5))\n",
    "    ax = axs[0]\n",
    "    ax.plot(cardinalities, [reg.score(np.vstack(set_sigs).T, sig) for reg in regs], marker = '.')\n",
    "\n",
    "    ax.set_xlim(left = 0)\n",
    "    ax.set_ylim(bottom = 0)\n",
    "    add_labels(ax, ylabel = 'coefficient of determination', xlabel  = 'Cardinality')\n",
    "    remove_edges(ax)\n",
    "    mean_er = np.vstack([np.mean((reg.predict(np.vstack(set_sigs).T) - sig)**2)**0.5 for reg in regs])\n",
    "\n",
    "    axs[1].plot(cardinalities, mean_er)\n",
    "    axs[1].set_xlim(left = 0)\n",
    "    axs[1].set_ylim(bottom = 0)\n",
    "    remove_edges(axs[1])\n",
    "    add_labels(axs[1], ylabel = 'rMSE', xlabel  = 'Cardinality')\n",
    "    plt.show()"
   ]
  },
  {
   "cell_type": "markdown",
   "metadata": {
    "execution": {}
   },
   "source": [
    "What is your conclusion? How do you think the above will affect generalization? How would you define the best cardinality?"
   ]
  },
  {
   "cell_type": "markdown",
   "metadata": {},
   "source": [
    " Make sure you execute this cell to observe the plot!\n"
   ]
  },
  {
   "cell_type": "code",
   "execution_count": null,
   "metadata": {
    "cellView": "form",
    "execution": {},
    "executionInfo": {
     "elapsed": 6799,
     "status": "ok",
     "timestamp": 1712755168539,
     "user": {
      "displayName": "Noga Mudrik",
      "userId": "02231196708671115202"
     },
     "user_tz": 240
    },
    "tags": [
     "hide-input"
    ]
   },
   "outputs": [],
   "source": [
    "# @markdown Make sure you execute this cell to observe the plot!\n",
    "\n",
    "with plt.xkcd():\n",
    "    fig, axs = plt.subplots(5, int(len(cardinalities)/5), figsize = (40,20),sharey = False, sharex = True)\n",
    "    axs = axs.flatten()\n",
    "    for j, (ax,reg) in enumerate(zip(axs,regs)):\n",
    "      ax.stem(freqs, reg.coef_)\n",
    "      remove_edges(ax)\n",
    "      add_labels(ax, xlabel = 'Frequencies', ylabel= 'Frequency weight', title = 'Cardinality %d'%cardinalities[j])\n",
    "      ax.set_xlim(left = 0)\n",
    "    fig.tight_layout()\n",
    "    plt.show()"
   ]
  },
  {
   "cell_type": "markdown",
   "metadata": {
    "execution": {}
   },
   "source": [
    "What happen under noise conditions? How sparsity affects generalization? Explore effect under noise."
   ]
  },
  {
   "cell_type": "code",
   "execution_count": null,
   "metadata": {
    "execution": {}
   },
   "outputs": [],
   "source": [
    "noisy_sig = sig + np.random.randn(*sig.shape)*50"
   ]
  },
  {
   "cell_type": "markdown",
   "metadata": {
    "colab_type": "text",
    "execution": {}
   },
   "source": [
    "```python\n",
    "###################################################################\n",
    "## Fill out the following then remove\n",
    "raise NotImplementedError(\"Student exercise: complete computation of frequencies and signals.\")\n",
    "###################################################################\n",
    "T_ar = np.arange(len(sig))\n",
    "\n",
    "# create a set of 20 signals with different frequencies, from 1 to 101, using sin(2\\pi f t).\n",
    "freqs = ...\n",
    "set_sigs = ...\n",
    "\n",
    "dictionary = np.vstack(set_sigs).T\n",
    "\n",
    "```"
   ]
  },
  {
   "cell_type": "code",
   "execution_count": null,
   "metadata": {
    "execution": {}
   },
   "outputs": [],
   "source": [
    "#to_remove solution\n",
    "T_ar = np.arange(len(sig))\n",
    "\n",
    "# create a set of 20 signals with different frequencies, from 1 to 101, using sin(2\\pi f t).\n",
    "freqs = np.linspace(0.001,1, 100)\n",
    "set_sigs = [np.sin(f*T_ar) for f in freqs]\n",
    "\n",
    "dictionary = np.vstack(set_sigs).T"
   ]
  },
  {
   "cell_type": "markdown",
   "metadata": {
    "execution": {}
   },
   "source": [
    "Let's calculate how increasing the cardinality enables recovering the ground truth (non noisy) signal."
   ]
  },
  {
   "cell_type": "code",
   "execution_count": null,
   "metadata": {
    "execution": {}
   },
   "outputs": [],
   "source": [
    "# least squares solution:\n",
    "x_hat = np.linalg.pinv(dictionary) @ noisy_sig\n",
    "\n",
    "# check  cardinalities\n",
    "regs = [OrthogonalMatchingPursuit(fit_intercept = True, n_nonzero_coefs = car).fit(dictionary, noisy_sig ) for car in cardinalities]"
   ]
  },
  {
   "cell_type": "markdown",
   "metadata": {
    "execution": {}
   },
   "source": [
    "Check accuracy and correlation with ground truth signal (without noise)."
   ]
  },
  {
   "cell_type": "markdown",
   "metadata": {},
   "source": [
    " Make sure you execute this cell to observe the plot!\n"
   ]
  },
  {
   "cell_type": "code",
   "execution_count": null,
   "metadata": {
    "cellView": "form",
    "execution": {},
    "tags": [
     "hide-input"
    ]
   },
   "outputs": [],
   "source": [
    "# @markdown Make sure you execute this cell to observe the plot!\n",
    "\n",
    "predictions = {car:np.mean((reg.predict(dictionary) - sig)**2) for reg,car in zip(regs, cardinalities)}\n",
    "predictions[dictionary.shape[1]] = np.mean((dictionary @ x_hat - sig)**2)\n",
    "\n",
    "with plt.xkcd():\n",
    "    fig, ax = plt.subplots()\n",
    "    pd.DataFrame(predictions, index = ['Cardinality']).T.plot.bar( ax = ax)\n",
    "    add_labels(ax, xlabel = 'Cardinality', ylabel = 'MSE', title= 'Extremely Noisy Conditions ($\\sigma = 35$)')\n",
    "    remove_edges(ax)"
   ]
  },
  {
   "cell_type": "markdown",
   "metadata": {
    "execution": {}
   },
   "source": [
    "### Coding Execrcie 5C: Explore the effect of increasing noise levels in the data and the dictionary dictionary"
   ]
  },
  {
   "cell_type": "markdown",
   "metadata": {},
   "source": [
    " Make sure you execute this cell to observe the plot!\n"
   ]
  },
  {
   "cell_type": "code",
   "execution_count": null,
   "metadata": {
    "cellView": "form",
    "execution": {},
    "executionInfo": {
     "elapsed": 1465,
     "status": "ok",
     "timestamp": 1712759163317,
     "user": {
      "displayName": "Noga Mudrik",
      "userId": "02231196708671115202"
     },
     "user_tz": 240
    },
    "tags": [
     "hide-input"
    ]
   },
   "outputs": [],
   "source": [
    "# @markdown Make sure you execute this cell to observe the plot!\n",
    "\n",
    "# Explore the effect of changing noise levels on generalization\n",
    "w_noise = 30\n",
    "w_noise_sig = 0.4\n",
    "\n",
    "noisy_sig = sig + w_noise*np.random.randn(*sig.shape)\n",
    "T_ar = np.arange(len(sig))\n",
    "\n",
    "freqs = np.linspace(0.001,1, 100)\n",
    "set_sigs = [np.sin(f*T_ar)+ w_noise_sig*np.random.randn(*T_ar.shape) for f in freqs]\n",
    "\n",
    "dictionary = np.vstack(set_sigs).T\n",
    "\n",
    "predictions = {car:np.mean((reg.predict(dictionary) - sig)**2) for reg,car in zip(regs, cardinalities)}\n",
    "predictions[dictionary.shape[1]] = np.mean((dictionary @ x_hat - sig)**2)\n",
    "\n",
    "with plt.xkcd():\n",
    "    fig, ax = plt.subplots()\n",
    "    pd.DataFrame(predictions, index = ['Cardinality']).T.plot.bar( ax = ax)\n",
    "    add_labels(ax, xlabel = 'Cardinality', ylabel = 'MSE', title= 'Extremely Noisy Conditions \\n ($\\sigma_{data} = %.2f, \\sigma_{dict} = %.2f$)'%(w_noise, w_noise_sig))\n",
    "    remove_edges(ax)\n",
    "    ax.set_yscale('log')"
   ]
  },
  {
   "cell_type": "markdown",
   "metadata": {
    "execution": {}
   },
   "source": [
    "Now we are going to change the dictionary. Let's explore the effect of an identity dictionary."
   ]
  },
  {
   "cell_type": "markdown",
   "metadata": {},
   "source": [
    " Make sure you execute this cell to observe the plot!\n"
   ]
  },
  {
   "cell_type": "code",
   "execution_count": null,
   "metadata": {
    "cellView": "form",
    "execution": {},
    "executionInfo": {
     "elapsed": 3100,
     "status": "ok",
     "timestamp": 1712759181201,
     "user": {
      "displayName": "Noga Mudrik",
      "userId": "02231196708671115202"
     },
     "user_tz": 240
    },
    "tags": [
     "hide-input"
    ]
   },
   "outputs": [],
   "source": [
    "# @markdown Make sure you execute this cell to observe the plot!\n",
    "\n",
    "# Explore the effect of changing noise levels on generalization\n",
    "w_noise = 10\n",
    "w_noise_sig = 0\n",
    "\n",
    "noisy_sig = sig + w_noise*np.random.randn(*sig.shape)\n",
    "T_ar = np.arange(len(sig))\n",
    "\n",
    "\n",
    "\n",
    "dictionary = np.eye(len(sig)).T\n",
    "# least squares solution:\n",
    "x_hat = np.linalg.pinv(dictionary) @ noisy_sig\n",
    "\n",
    "# check  cardinalities\n",
    "regs = [OrthogonalMatchingPursuit(fit_intercept = True, n_nonzero_coefs = car).fit(dictionary, noisy_sig ) for car in cardinalities]\n",
    "\n",
    "\n",
    "predictions = {car:np.mean((reg.predict(dictionary) - sig)**2) for reg,car in zip(regs, cardinalities)}\n",
    "predictions[dictionary.shape[1]] = np.mean((dictionary @ x_hat - sig)**2)\n",
    "\n",
    "with plt.xkcd():\n",
    "    fig, ax = plt.subplots()\n",
    "\n",
    "    pd.DataFrame(predictions, index = ['Cardinality']).T.plot.bar( ax = ax)\n",
    "    add_labels(ax, xlabel = 'Cardinality', ylabel = 'MSE',\n",
    "           title= 'Extremely Noisy Conditions \\n ($\\sigma_{data} = %.2f, \\sigma_{dict} = %.2f$)'%(w_noise, w_noise_sig))\n",
    "    remove_edges(ax)\n",
    "    ax.set_yscale('log')"
   ]
  },
  {
   "cell_type": "markdown",
   "metadata": {},
   "source": [
    " Make sure you execute this cell to observe the plot!\n"
   ]
  },
  {
   "cell_type": "code",
   "execution_count": null,
   "metadata": {
    "cellView": "form",
    "execution": {},
    "executionInfo": {
     "elapsed": 1776,
     "status": "ok",
     "timestamp": 1712759457360,
     "user": {
      "displayName": "Noga Mudrik",
      "userId": "02231196708671115202"
     },
     "user_tz": 240
    },
    "tags": [
     "hide-input"
    ]
   },
   "outputs": [],
   "source": [
    "# @markdown Make sure you execute this cell to observe the plot!\n",
    "\n",
    "with plt.xkcd():\n",
    "    fig, ax = plt.subplots()\n",
    "    sns.heatmap(dictionary)\n",
    "    add_labels(ax, title = 'Identity Dictionary', xlabel = 'Atoms', ylabel = 'Elements')"
   ]
  },
  {
   "cell_type": "markdown",
   "metadata": {
    "execution": {}
   },
   "source": [
    " Why? Can you explain the results?"
   ]
  },
  {
   "cell_type": "markdown",
   "metadata": {
    "execution": {}
   },
   "source": [
    "# Section 6: Hidden atoms as dictionary learning\n",
    "\n",
    "Estimated timing to here from start of tutorial: 1 hour 40 minutes. "
   ]
  },
  {
   "cell_type": "markdown",
   "metadata": {},
   "source": [
    "##  Video 7: Hidden atoms as dictionary learning\n"
   ]
  },
  {
   "cell_type": "code",
   "execution_count": null,
   "metadata": {
    "cellView": "form",
    "execution": {},
    "tags": [
     "remove-input"
    ]
   },
   "outputs": [],
   "source": [
    "# @title Video 7: Hidden atoms as dictionary learning\n",
    "\n",
    "from ipywidgets import widgets\n",
    "from IPython.display import YouTubeVideo\n",
    "from IPython.display import IFrame\n",
    "from IPython.display import display\n",
    "\n",
    "\n",
    "class PlayVideo(IFrame):\n",
    "  def __init__(self, id, source, page=1, width=400, height=300, **kwargs):\n",
    "    self.id = id\n",
    "    if source == 'Bilibili':\n",
    "      src = f'https://player.bilibili.com/player.html?bvid={id}&page={page}'\n",
    "    elif source == 'Osf':\n",
    "      src = f'https://mfr.ca-1.osf.io/render?url=https://osf.io/download/{id}/?direct%26mode=render'\n",
    "    super(PlayVideo, self).__init__(src, width, height, **kwargs)\n",
    "\n",
    "\n",
    "def display_videos(video_ids, W=400, H=300, fs=1):\n",
    "  tab_contents = []\n",
    "  for i, video_id in enumerate(video_ids):\n",
    "    out = widgets.Output()\n",
    "    with out:\n",
    "      if video_ids[i][0] == 'Youtube':\n",
    "        video = YouTubeVideo(id=video_ids[i][1], width=W,\n",
    "                             height=H, fs=fs, rel=0)\n",
    "        print(f'Video available at https://youtube.com/watch?v={video.id}')\n",
    "      else:\n",
    "        video = PlayVideo(id=video_ids[i][1], source=video_ids[i][0], width=W,\n",
    "                          height=H, fs=fs, autoplay=False)\n",
    "        if video_ids[i][0] == 'Bilibili':\n",
    "          print(f'Video available at https://www.bilibili.com/video/{video.id}')\n",
    "        elif video_ids[i][0] == 'Osf':\n",
    "          print(f'Video available at https://osf.io/{video.id}')\n",
    "      display(video)\n",
    "    tab_contents.append(out)\n",
    "  return tab_contents\n",
    "\n",
    "\n",
    "video_ids = [('Youtube', 'TGgjedW502E')]\n",
    "tab_contents = display_videos(video_ids, W=730, H=410)\n",
    "tabs = widgets.Tab()\n",
    "tabs.children = tab_contents\n",
    "for i in range(len(tab_contents)):\n",
    "  tabs.set_title(i, video_ids[i][0])\n",
    "display(tabs)"
   ]
  },
  {
   "cell_type": "markdown",
   "metadata": {
    "execution": {}
   },
   "source": [
    "## Coding Exercise 6\n",
    "\n",
    "For this section, we first load a new short video created from mnist, as shown below. We then use sklearn's DictionaryLearning to find the dictionary's ($D$) atoms."
   ]
  },
  {
   "cell_type": "markdown",
   "metadata": {
    "execution": {}
   },
   "source": [
    "### Coding Exercise 6a: Dictionary Learning to find MNIST digits"
   ]
  },
  {
   "cell_type": "markdown",
   "metadata": {
    "colab_type": "text",
    "execution": {}
   },
   "source": [
    "```python\n",
    "###################################################################\n",
    "## Fill out the following then remove\n",
    "raise NotImplementedError(\"Student exercise: complete computation of `X_transformed`.\")\n",
    "###################################################################\n",
    "#make sure you've downloaded these files in `Data retrieval` cell\n",
    "\n",
    "video_fire = np.load('reweight_digits.npy')\n",
    "# video_fire is a 3D array representing pixels X pixels X time\n",
    "# Create a copy of the video_fire array\n",
    "im_focus = video_fire.copy()\n",
    "\n",
    "# Get the number of frames in the video\n",
    "T = im_focus.shape[2]\n",
    "\n",
    "# Get the number of rows in the video\n",
    "N0 = im_focus.shape[0]\n",
    "\n",
    "# Get the number of columns in the video, leaving out 10 columns\n",
    "N1 = im_focus.shape[1] - 10\n",
    "\n",
    "# Create a copy of the extracted frames\n",
    "low_res = im_focus.copy()\n",
    "\n",
    "# Get the shape of a single frame\n",
    "shape_frame = low_res[:, :, 0].shape\n",
    "\n",
    "# Flatten each frame and store them in a list\n",
    "video_fire_ar = [low_res[:, :, frame].flatten() for frame in range(low_res.shape[2])]\n",
    "# Create dict_learner object\n",
    "\n",
    "dict_learner = DictionaryLearning(\n",
    "    n_components=20, transform_algorithm='lasso_lars', transform_alpha=0.3,\n",
    "    random_state=42,\n",
    ")\n",
    "\n",
    "X_transformed = dict_learner.fit(...).transform(...)\n",
    "\n",
    "```"
   ]
  },
  {
   "cell_type": "code",
   "execution_count": null,
   "metadata": {
    "execution": {},
    "executionInfo": {
     "elapsed": 1423,
     "status": "ok",
     "timestamp": 1712763232094,
     "user": {
      "displayName": "Noga Mudrik",
      "userId": "02231196708671115202"
     },
     "user_tz": 240
    }
   },
   "outputs": [],
   "source": [
    "#to_remove solution\n",
    "#make sure you've downloaded these files in `Data retrieval` cell\n",
    "\n",
    "video_fire = np.load('reweight_digits.npy')\n",
    "# video_fire is a 3D array representing pixels X pixels X time\n",
    "# Create a copy of the video_fire array\n",
    "im_focus = video_fire.copy()\n",
    "\n",
    "# Get the number of frames in the video\n",
    "T = im_focus.shape[2]\n",
    "\n",
    "# Get the number of rows in the video\n",
    "N0 = im_focus.shape[0]\n",
    "\n",
    "# Get the number of columns in the video, leaving out 10 columns\n",
    "N1 = im_focus.shape[1] - 10\n",
    "\n",
    "# Create a copy of the extracted frames\n",
    "low_res = im_focus.copy()\n",
    "\n",
    "# Get the shape of a single frame\n",
    "shape_frame = low_res[:, :, 0].shape\n",
    "\n",
    "# Flatten each frame and store them in a list\n",
    "video_fire_ar = [low_res[:, :, frame].flatten() for frame in range(low_res.shape[2])]\n",
    "# Create dict_learner object\n",
    "\n",
    "dict_learner = DictionaryLearning(\n",
    "    n_components=20, transform_algorithm='lasso_lars', transform_alpha=0.3,\n",
    "    random_state=42,\n",
    ")\n",
    "\n",
    "X_transformed = dict_learner.fit(np.vstack(video_fire_ar)).transform(np.vstack(video_fire_ar))"
   ]
  },
  {
   "cell_type": "markdown",
   "metadata": {
    "execution": {}
   },
   "source": [
    "Let's visualize atoms!"
   ]
  },
  {
   "cell_type": "markdown",
   "metadata": {},
   "source": [
    " Make sure you execute this cell to observe the plot!\n"
   ]
  },
  {
   "cell_type": "code",
   "execution_count": null,
   "metadata": {
    "cellView": "form",
    "execution": {},
    "executionInfo": {
     "elapsed": 30019,
     "status": "ok",
     "timestamp": 1712763359226,
     "user": {
      "displayName": "Noga Mudrik",
      "userId": "02231196708671115202"
     },
     "user_tz": 240
    },
    "tags": [
     "hide-input"
    ]
   },
   "outputs": [],
   "source": [
    "# @markdown Make sure you execute this cell to observe the plot!\n",
    "\n",
    "with plt.xkcd():\n",
    "    num_thetas = 20\n",
    "    cmap_name = 'plasma'\n",
    "    samples = np.linspace(0, 1, len(dict_learner.components_)+1)\n",
    "    colors = plt.colormaps[cmap_name](samples)\n",
    "\n",
    "    num_comps = len(dict_learner.components_)\n",
    "\n",
    "    fig, axs = plt.subplots(2, int(num_comps/2) , figsize = (50,15), sharey = True, sharex = True)\n",
    "    axs = axs.flatten()\n",
    "    [sns.heatmap(dict_learner.components_[j].reshape(shape_frame), ax = axs[j]) for j in range(num_comps)]\n",
    "    titles = ['Atom %d'%j for j in range(1, num_comps +1)]\n",
    "    [ax.set_title(title, color = colors[j], fontsize = 40)\n",
    "    for j, (title, ax) in enumerate(zip(titles, axs))]"
   ]
  },
  {
   "cell_type": "markdown",
   "metadata": {},
   "source": [
    " Make sure you execute this cell to observe the plot!\n"
   ]
  },
  {
   "cell_type": "code",
   "execution_count": null,
   "metadata": {
    "cellView": "form",
    "execution": {},
    "executionInfo": {
     "elapsed": 3204,
     "status": "ok",
     "timestamp": 1712763660216,
     "user": {
      "displayName": "Noga Mudrik",
      "userId": "02231196708671115202"
     },
     "user_tz": 240
    },
    "tags": [
     "hide-input"
    ]
   },
   "outputs": [],
   "source": [
    "# @markdown Make sure you execute this cell to observe the plot!\n",
    "\n",
    "import warnings\n",
    "warnings.filterwarnings(\"ignore\")\n",
    "\n",
    "with plt.xkcd():\n",
    "    fig, ax = plt.subplots()\n",
    "    [ax.plot(X_transformed[:,j], color = colors[j], lw = 5, label = 'Atom %d'%(j+1))\n",
    "     for j in range(num_comps)]\n",
    "    remove_edges(ax)\n",
    "    ax.set_xlim(left = 0)\n",
    "    [ax.set_yticks([]) for ax in axs]\n",
    "    [ax.set_xticks([]) for ax in axs]\n",
    "\n",
    "    add_labels(ax, xlabel = 'Time', ylabel = 'Coefficients', title = 'Elements Ceofficients')\n",
    "    create_legend({'Atom %d'%(j+1): colors[j] for j in range(num_comps)}, params_leg = {'ncol': 5})"
   ]
  },
  {
   "cell_type": "markdown",
   "metadata": {
    "execution": {}
   },
   "source": [
    "Now, let's compare the components to PCA."
   ]
  },
  {
   "cell_type": "code",
   "execution_count": null,
   "metadata": {
    "execution": {}
   },
   "outputs": [],
   "source": [
    "data_mat = np.vstack(video_fire_ar)\n",
    "# Assuming your data is stored in a variable named 'data_mat' (N by p numpy array)\n",
    "# where N is the number of samples and p is the number of features\n",
    "\n",
    "# Create a PCA object with 20 components\n",
    "pca = PCA(n_components=20)\n",
    "\n",
    "# Fit the PCA model to the data\n",
    "pca.fit(data_mat)\n",
    "\n",
    "# Access the 20 PCA components\n",
    "pca_components = pca.components_\n",
    "\n",
    "pca_componens_images = [pca_components[comp,:].reshape(shape_frame) for comp in range(num_comps)]"
   ]
  },
  {
   "cell_type": "markdown",
   "metadata": {},
   "source": [
    " Make sure you execute this cell to observe the plot!\n"
   ]
  },
  {
   "cell_type": "code",
   "execution_count": null,
   "metadata": {
    "cellView": "form",
    "execution": {},
    "executionInfo": {
     "elapsed": 43047,
     "status": "ok",
     "timestamp": 1712764654689,
     "user": {
      "displayName": "Noga Mudrik",
      "userId": "02231196708671115202"
     },
     "user_tz": 240
    },
    "tags": [
     "hide-input"
    ]
   },
   "outputs": [],
   "source": [
    "# @markdown Make sure you execute this cell to observe the plot!\n",
    "\n",
    "with plt.xkcd():\n",
    "    fig, axs = plt.subplots(2, int(num_comps/2) , figsize = (50,15), sharey = True, sharex = True)\n",
    "    axs = axs.flatten()\n",
    "    [sns.heatmap(im, ax = axs[j]) for j,im in enumerate(pca_componens_images)]\n",
    "    titles = ['Atom %d'%j for j in range(1, num_comps +1)]\n",
    "    [ax.set_title(title, color = colors[j], fontsize = 40)\n",
    "    for j, (title, ax) in enumerate(zip(titles, axs))]"
   ]
  }
 ],
 "metadata": {
  "colab": {
   "authorship_tag": "ABX9TyMRgvL5QhjXUUOi0Ye9fHiI",
   "collapsed_sections": [],
   "include_colab_link": true,
   "name": "W1D5_Tutorial1",
   "provenance": [
    {
     "file_id": "1jqGV4UXc9YC1kO-MdMQDeWT7CTD7DZWu",
     "timestamp": 1712716650998
    }
   ],
   "toc_visible": true
  },
  "kernel": {
   "display_name": "Python 3",
   "language": "python",
   "name": "python3"
  },
  "kernelspec": {
   "display_name": "Python 3 (ipykernel)",
   "language": "python",
   "name": "python3"
  },
  "language_info": {
   "codemirror_mode": {
    "name": "ipython",
    "version": 3
   },
   "file_extension": ".py",
   "mimetype": "text/x-python",
   "name": "python",
   "nbconvert_exporter": "python",
   "pygments_lexer": "ipython3",
   "version": "3.9.19"
  }
 },
 "nbformat": 4,
 "nbformat_minor": 4
}